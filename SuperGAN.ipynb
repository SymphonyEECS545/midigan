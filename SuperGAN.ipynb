{
 "cells": [
  {
   "cell_type": "code",
   "execution_count": 1,
   "metadata": {
    "collapsed": false
   },
   "outputs": [
    {
     "name": "stderr",
     "output_type": "stream",
     "text": [
      "Using TensorFlow backend.\n"
     ]
    }
   ],
   "source": [
    "# Dem Libraries!\n",
    "%matplotlib inline\n",
    "import os\n",
    "import random\n",
    "import numpy as np\n",
    "import pandas as pd\n",
    "import matplotlib.pyplot as plt\n",
    "import seaborn as sns\n",
    "from tqdm import tqdm_notebook as tqdm\n",
    "from keras.models import Model\n",
    "from keras.layers import Input, Reshape\n",
    "from keras.layers.core import Dense, Activation, Dropout, Flatten\n",
    "from keras.layers.normalization import BatchNormalization\n",
    "from keras.layers.convolutional import UpSampling1D, Conv1D\n",
    "from keras.layers.advanced_activations import LeakyReLU\n",
    "from keras.optimizers import Adam, SGD\n",
    "from keras.callbacks import TensorBoard\n",
    "import pretty_midi\n",
    "np.random.seed(77)\n",
    "\n",
    "#Paths\n",
    "training_path = './1000_Interpolated/'\n",
    "total_samps = 19000"
   ]
  },
  {
   "cell_type": "code",
   "execution_count": 2,
   "metadata": {
    "collapsed": false
   },
   "outputs": [],
   "source": [
    "# To get the sine waves data\n",
    "# n_samples : Number of sine waves you want generated\n",
    "def sample_data(training_path):\n",
    "    filenames = []\n",
    "    lens = []\n",
    "    fin_midi_stream = []\n",
    "    for filename in os.listdir(training_path):\n",
    "        if filename.endswith('.mid'):\n",
    "            filenames.append(os.path.join(training_path,filename))\n",
    "    fin_midi_streama = []\n",
    "    fin_midi_files = []\n",
    "    for file in filenames:\n",
    "        temp = pretty_midi.PrettyMIDI(file)\n",
    "        melody = temp.instruments[0]\n",
    "    #     chord = temp.instruments[1]\n",
    "        melody_math = melody.get_piano_roll(16)\n",
    "        curr_stream = np.argmax(melody_math, axis=0)\n",
    "        fin_midi_streama.extend(curr_stream)\n",
    "    chop_size = 256\n",
    "    num_of_chops = len(fin_midi_streama)//chop_size\n",
    "    for i in range(num_of_chops):\n",
    "        fin_midi_files.append(fin_midi_streama[(i)*chop_size:(i+1)*chop_size])\n",
    "    return fin_midi_files\n",
    "\n",
    "def UN_normalize_data(INP):\n",
    "    OUTP = np.zeros((len(INP),len(INP[0])))\n",
    "#     OUTP = INP\n",
    "    for i in range(len(INP)):\n",
    "        for j in range(len(INP[i])):\n",
    "            OUTP[i][j]=(data_minim + (INP[i][j]*(data_maxim-data_minim)) )\n",
    "    return OUTP\n",
    "\n",
    "def normalize_data(INP):\n",
    "    OUTP = np.zeros((len(INP),len(INP[0])))\n",
    "#     OUTP = INP\n",
    "    for i in range(len(INP)):\n",
    "        for j in range(len(INP[i])):\n",
    "            OUTP[i][j]=int((INP[i][j]-data_minim)/(data_maxim-data_minim))\n",
    "    return OUTP\n",
    "\n",
    "ALL_DATA = sample_data(training_path)\n",
    "data_minim = min(min(ALL_DATA))\n",
    "data_maxim = max(max(ALL_DATA))\n",
    "ALL_NEW_DATA = normalize_data(ALL_DATA)\n",
    "\n",
    "def get_ALL_data(n_samples):\n",
    "    return ALL_NEW_DATA[:n_samples]\n",
    "#     return ALL_DATA[:n_samples]\n",
    "\n",
    "# Function to get the max and min notes\n",
    "def get_max_min_notes(all_the_data):\n",
    "    minim = 99999\n",
    "    maxim = 0\n",
    "    for i in range(len(all_the_data)):\n",
    "        for j in all_the_data[i]:\n",
    "            if j>maxim:\n",
    "                maxim= j\n",
    "            if j<minim:\n",
    "                minim = j\n",
    "    return maxim,minim\n",
    "\n",
    "# Get Randomn Input( Uniform but now integers)\n",
    "def get_random_in_here(n_samples,noise_dim):\n",
    "    XN_noise = np.random.uniform(0, 1, size=[n_samples, noise_dim])\n",
    "    for i in range(len(XN_noise)):\n",
    "        for j in range(len(XN_noise[i])):\n",
    "            XN_noise[i][j] = round(XN_noise[i][j])\n",
    "    return XN_noise"
   ]
  },
  {
   "cell_type": "code",
   "execution_count": 3,
   "metadata": {
    "collapsed": false
   },
   "outputs": [
    {
     "name": "stdout",
     "output_type": "stream",
     "text": [
      "_________________________________________________________________\n",
      "Layer (type)                 Output Shape              Param #   \n",
      "=================================================================\n",
      "input_1 (InputLayer)         (None, 16)                0         \n",
      "_________________________________________________________________\n",
      "dense_1 (Dense)              (None, 1000)              17000     \n",
      "_________________________________________________________________\n",
      "activation_1 (Activation)    (None, 1000)              0         \n",
      "_________________________________________________________________\n",
      "dense_2 (Dense)              (None, 256)               256256    \n",
      "=================================================================\n",
      "Total params: 273,256\n",
      "Trainable params: 273,256\n",
      "Non-trainable params: 0\n",
      "_________________________________________________________________\n"
     ]
    }
   ],
   "source": [
    "#Generator Model :\n",
    "# Needs to be able to take in random noise and generate realistic looking output data\n",
    "\n",
    "def get_generative(G_in, dense_dim=1000, out_dim=256, lr=1e-3):\n",
    "    x = Dense(dense_dim)(G_in)\n",
    "    x = Activation('tanh')(x)\n",
    "    G_out = Dense(out_dim, activation='tanh')(x)\n",
    "    G = Model(G_in, G_out)\n",
    "    opt = SGD(lr=lr)\n",
    "    G.compile(loss='binary_crossentropy', optimizer=opt)\n",
    "    return G, G_out\n",
    "\n",
    "G_in = Input(shape=[16])\n",
    "G, G_out = get_generative(G_in)\n",
    "G.summary()"
   ]
  },
  {
   "cell_type": "code",
   "execution_count": 4,
   "metadata": {
    "collapsed": false
   },
   "outputs": [
    {
     "name": "stdout",
     "output_type": "stream",
     "text": [
      "_________________________________________________________________\n",
      "Layer (type)                 Output Shape              Param #   \n",
      "=================================================================\n",
      "input_2 (InputLayer)         (None, 256)               0         \n",
      "_________________________________________________________________\n",
      "reshape_1 (Reshape)          (None, 256, 1)            0         \n",
      "_________________________________________________________________\n",
      "conv1d_1 (Conv1D)            (None, 252, 100)          600       \n",
      "_________________________________________________________________\n",
      "dropout_1 (Dropout)          (None, 252, 100)          0         \n",
      "_________________________________________________________________\n",
      "flatten_1 (Flatten)          (None, 25200)             0         \n",
      "_________________________________________________________________\n",
      "dense_3 (Dense)              (None, 100)               2520100   \n",
      "_________________________________________________________________\n",
      "dense_4 (Dense)              (None, 2)                 202       \n",
      "=================================================================\n",
      "Total params: 2,520,902\n",
      "Trainable params: 2,520,902\n",
      "Non-trainable params: 0\n",
      "_________________________________________________________________\n"
     ]
    }
   ],
   "source": [
    "#Discriminator Model :\n",
    "# Needs to be able to take in a generated signal and distinguish between real and fake(generated)\n",
    "\n",
    "def get_discriminative(D_in, lr=1e-3, drate=.25, n_channels=100, conv_sz=5, leak=.2):\n",
    "    x = Reshape((-1, 1))(D_in)\n",
    "    \n",
    "    x = Conv1D(n_channels, conv_sz, activation='relu')(x)\n",
    "    x = Dropout(drate)(x)\n",
    "    x = Flatten()(x)\n",
    "    x = Dense(n_channels)(x)\n",
    "    D_out = Dense(2, activation='sigmoid')(x)\n",
    "    D = Model(D_in, D_out)\n",
    "    dopt = Adam(lr=lr)\n",
    "    D.compile(loss='binary_crossentropy', optimizer=dopt)\n",
    "    return D, D_out\n",
    "\n",
    "D_in = Input(shape=[256])\n",
    "D, D_out = get_discriminative(D_in)\n",
    "D.summary()"
   ]
  },
  {
   "cell_type": "code",
   "execution_count": 5,
   "metadata": {
    "collapsed": false
   },
   "outputs": [
    {
     "name": "stdout",
     "output_type": "stream",
     "text": [
      "_________________________________________________________________\n",
      "Layer (type)                 Output Shape              Param #   \n",
      "=================================================================\n",
      "input_3 (InputLayer)         (None, 16)                0         \n",
      "_________________________________________________________________\n",
      "model_1 (Model)              (None, 256)               273256    \n",
      "_________________________________________________________________\n",
      "model_2 (Model)              (None, 2)                 2520902   \n",
      "=================================================================\n",
      "Total params: 2,794,158\n",
      "Trainable params: 273,256\n",
      "Non-trainable params: 2,520,902\n",
      "_________________________________________________________________\n"
     ]
    }
   ],
   "source": [
    "# Function to make sure the Discriminators weights are frozen, while training the Generator\n",
    "def set_trainability(model, trainable=False):\n",
    "    model.trainable = trainable\n",
    "    for layer in model.layers:\n",
    "        layer.trainable = trainable\n",
    "\n",
    "        \n",
    "def make_gan(GAN_in, G, D):\n",
    "    set_trainability(D, False)\n",
    "    x = G(GAN_in)\n",
    "    GAN_out = D(x)\n",
    "    GAN = Model(GAN_in, GAN_out)\n",
    "    GAN.compile(loss='binary_crossentropy', optimizer=G.optimizer)\n",
    "    return GAN, GAN_out\n",
    "\n",
    "GAN_in = Input([16])\n",
    "GAN, GAN_out = make_gan(GAN_in, G, D)\n",
    "GAN.summary()"
   ]
  },
  {
   "cell_type": "code",
   "execution_count": 6,
   "metadata": {
    "collapsed": false
   },
   "outputs": [],
   "source": [
    "# Function to get a concatenated input of real_data and fake_data with appropriate concatenated labels\n",
    "def sample_data_and_gen(G, noise_dim=16, n_samples=total_samps):\n",
    "    # Generated Real Samples \n",
    "    XT = get_ALL_data(n_samples)\n",
    "    # Get the random noise that'll be used to generate the fake data\n",
    "    #XN_noise = np.random.uniform(0, 108, size=[n_samples, noise_dim])\n",
    "    XN_noise = get_random_in_here(n_samples,noise_dim)\n",
    "    # Generate the Fake Samples\n",
    "    XN = G.predict(XN_noise)\n",
    "    # Concatenat the Real and Fake Data\n",
    "    X = np.concatenate((XT, XN))\n",
    "    # Concatenate the labels and set the appropriate values\n",
    "    y = np.zeros((2*n_samples, 2))\n",
    "    y[:n_samples, 1] = 1\n",
    "    y[n_samples:, 0] = 1\n",
    "    \n",
    "    return X, y\n",
    "\n",
    "def pretrain(G, D, noise_dim=16, n_samples=total_samps, batch_size=100):\n",
    "    # Get the real samples for the pretraining of the discriminator\n",
    "    X, y = sample_data_and_gen(G, n_samples=n_samples, noise_dim=noise_dim)\n",
    "    # Allow the Discriminator to be trained\n",
    "    set_trainability(D, True)\n",
    "    # Fit the Discriminator with 1 epoch\n",
    "    D.fit(X, y, epochs=1, batch_size=batch_size)\n"
   ]
  },
  {
   "cell_type": "code",
   "execution_count": 7,
   "metadata": {
    "collapsed": false
   },
   "outputs": [
    {
     "name": "stdout",
     "output_type": "stream",
     "text": [
      "Epoch 1/1\n",
      "38000/38000 [==============================] - 63s - loss: 0.0087    \n"
     ]
    }
   ],
   "source": [
    "# Perform One Train run for the Determiner\n",
    "pretrain(G, D)"
   ]
  },
  {
   "cell_type": "code",
   "execution_count": 8,
   "metadata": {
    "collapsed": true
   },
   "outputs": [],
   "source": [
    "# Get sample noise for the GAN training cycle\n",
    "def sample_noise(G, noise_dim=16, n_samples=total_samps):\n",
    "    #X = np.random.uniform(0, 108, size=[n_samples, noise_dim])\n",
    "    X = get_random_in_here(n_samples,noise_dim)\n",
    "    y = np.zeros((n_samples, 2))\n",
    "    y[:, 1] = 1\n",
    "    return X, y\n",
    "\n",
    "# Training the GAN by backpropagating the losses of the discriminator on the generated samples, \n",
    "# whilst freezing discriminator weights\n",
    "\n",
    "def train(GAN, G, D, epochs=50, n_samples=total_samps, noise_dim=16, batch_size=100, verbose=False, v_freq=1):\n",
    "    d_loss = []\n",
    "    g_loss = []\n",
    "    e_range = range(epochs)\n",
    "    if verbose:\n",
    "        e_range = tqdm(e_range)\n",
    "    #For each EPOCH\n",
    "    for epoch in e_range:\n",
    "        # Get True and Generated Samples with Labels\n",
    "        X, y = sample_data_and_gen(G, n_samples=n_samples, noise_dim=noise_dim)\n",
    "        # Allow Discriminator to be Trained\n",
    "        set_trainability(D, True)\n",
    "        # Evaluate the Discriminator loss on this set(only to record loss)\n",
    "        d_loss.append(D.train_on_batch(X, y))\n",
    "        \n",
    "        # Now just get the generated samples\n",
    "        X, y = sample_noise(G, n_samples=n_samples, noise_dim=noise_dim)\n",
    "        # Freeze the Discriminator Weights\n",
    "        set_trainability(D, False)\n",
    "        # Evaluate the Generator loss on this set\n",
    "        g_loss.append(GAN.train_on_batch(X, y))\n",
    "        if verbose and (epoch + 1) % v_freq == 0:\n",
    "            print(\"Epoch #{}: Generative Loss: {}, Discriminative Loss: {}\".format(epoch + 1, g_loss[-1], d_loss[-1]))\n",
    "    return d_loss, g_loss\n"
   ]
  },
  {
   "cell_type": "code",
   "execution_count": null,
   "metadata": {
    "collapsed": false
   },
   "outputs": [],
   "source": [
    "d_loss, g_loss = train(GAN, G, D, verbose=True)"
   ]
  },
  {
   "cell_type": "code",
   "execution_count": null,
   "metadata": {
    "collapsed": true
   },
   "outputs": [],
   "source": [
    "def piano_roll_to_pretty_midi(piano_roll, sf=16, program_num=1):\n",
    "    \"\"\"Convert piano roll to a single instrument pretty_midi object\"\"\"\n",
    "    notes, frames = piano_roll.shape\n",
    "    pm = pretty_midi.PrettyMIDI()\n",
    "    instrument = pretty_midi.Instrument(program=program_num)\n",
    " \n",
    "    #prepend,append zeros so we can acknowledge inital and ending events\n",
    "    piano_roll = np.hstack((np.zeros((notes, 1)),\n",
    "                                 piano_roll,\n",
    "                                 np.zeros((notes, 1))))\n",
    " \n",
    "    velocity_changes = np.nonzero(np.diff(piano_roll).T)\n",
    "    current_velocities = np.zeros(notes,dtype=int)\n",
    "    note_on_time = np.zeros(notes)\n",
    "\n",
    "    for time, note in zip(*velocity_changes):\n",
    "        velocity = piano_roll[note, time + 1]\n",
    "        time = time / sf\n",
    "        if velocity > 0:\n",
    "            if current_velocities[note] == 0:\n",
    "                #print('note {} on'.format(pretty_midi.note_number_to_name(note)))\n",
    "                #print('starting at time {} with velocity {}'.format(time,velocity))\n",
    "                note_on_time[note] = time\n",
    "                current_velocities[note] = velocity\n",
    "            elif current_velocities[note] > 0:\n",
    "                #change velocity with a special MIDI message\n",
    "                pass\n",
    "        else:\n",
    "            #print('note {} off'.format(pretty_midi.note_number_to_name(note)))\n",
    "            #print('ending at time {}'.format(time))\n",
    "            pm_note = pretty_midi.Note(\n",
    "            velocity=current_velocities[note],\n",
    "            pitch=note,\n",
    "            start=note_on_time[note],\n",
    "            end=time)\n",
    "            instrument.notes.append(pm_note)\n",
    "            current_velocities[note] = 0\n",
    "    pm.instruments.append(instrument)\n",
    "    return pm"
   ]
  },
  {
   "cell_type": "code",
   "execution_count": null,
   "metadata": {
    "collapsed": false
   },
   "outputs": [],
   "source": [
    "#Shreyans is a fucking asshole. Dipshit lil bitch. \n",
    "def fuck_shrey(d):\n",
    "    d = np.round(d).astype(int)\n",
    "    j = np.zeros((128,np.shape(d)[1]))\n",
    "    i=0\n",
    "    while (i<np.shape(d)[1]):\n",
    "        j[d[0,i],i] = 1\n",
    "        i = i+1\n",
    "    return j\n",
    "\n",
    "def pianoroll_to_midi(piano_roll, fs=16, program=0):\n",
    "    '''Converts a Piano Roll array to a PrettyMidi object\n",
    "     with a single instrument.\n",
    "    \n",
    "    Input:\n",
    "    piano_roll : np.ndarray, shape=(128,frames), dtype=int\n",
    "        Piano roll of one instrument\n",
    "    fs : int\n",
    "        Sampling frequency of the columns, i.e. each column is spaced apart\n",
    "        by ``1./fs`` seconds.\n",
    "    program : int\n",
    "        The program number of the instrument.\n",
    "    \n",
    "    Returns:\n",
    "    midi_object : pretty_midi.PrettyMIDI\n",
    "        A pretty_midi.PrettyMIDI class instance describing\n",
    "        the piano roll.\n",
    "    '''\n",
    "    period=1./fs\n",
    "    \n",
    "    notes, frames = piano_roll.shape #get number of frames in our piano roll\n",
    "    pm = pretty_midi.PrettyMIDI() #create a Pretty Midi object\n",
    "    instrument = pretty_midi.Instrument(program=0) #specify our instrument\n",
    "\n",
    "    #record previous pitch/velocity so we can concatenate notes together\n",
    "    prev_pitch=0\n",
    "    prev_velocity=0\n",
    "    notelength=0\n",
    "    starttime=0\n",
    "    endtime=period\n",
    "    \n",
    "    i=0\n",
    "    while i<frames: #range over the frames of the piano roll\n",
    "\n",
    "        #need to specify velocity (100 for note, 0 for rest),  start time, end time, and pitch\n",
    "        \n",
    "        \n",
    "        #for ith column of piano roll get the (possible) non-zero index which\n",
    "        #corresponds to the pitch\n",
    "        col=piano_roll[:,i] \n",
    "        colnext=piano_roll[:,i+1]\n",
    "        tmp=np.nonzero(col)\n",
    "        tmpnext=np.nonzero(colnext)\n",
    "        \n",
    "        if tmp[0].size==0: #current is rest note, don't need to worry about length\n",
    "            \n",
    "            velocity=0\n",
    "            starttime=i*period\n",
    "            endtime=period+i*period\n",
    "            current_pitch=0\n",
    "           \n",
    "        \n",
    "        else:\n",
    "            #get current pitch and set the start time\n",
    "            velocity=100\n",
    "            current_pitch=tmp[0][0]\n",
    "            starttime=i*period\n",
    "            \n",
    "            \n",
    "            #loop over future notes to find when pitch changes\n",
    "            pitchchange=False\n",
    "            while pitchchange==False:\n",
    "                \n",
    "                #if end of song quit\n",
    "                if i==frames-1:\n",
    "                    endtime=period+i*period\n",
    "                    break\n",
    "                    \n",
    "                #get next note\n",
    "                colnext=piano_roll[:,i+1]\n",
    "                tmpnext=np.nonzero(colnext)\n",
    "                \n",
    "                #if next note is a rest\n",
    "                if tmpnext[0].size==0: \n",
    "                    endtime=period+i*period\n",
    "                    break\n",
    "                    \n",
    "                #if next frame has different pitch\n",
    "                elif tmpnext[0][0]!=current_pitch: \n",
    "                    endtime=period+i*period\n",
    "                    pitchchange=True\n",
    "            \n",
    "                else:\n",
    "                    #increment to next frame\n",
    "                    i=i+1\n",
    "                    \n",
    "            \n",
    "        pm_note=pretty_midi.Note(velocity=100, pitch=current_pitch, start=starttime, end=endtime)\n",
    "        i=i+1\n",
    "        #we have appended note, now move to next note\n",
    "        instrument.notes.append(pm_note)\n",
    "        #print starttime\n",
    "        #print endtime\n",
    "        \n",
    "    pm.instruments.append(instrument)\n",
    "\n",
    "    return pm"
   ]
  },
  {
   "cell_type": "code",
   "execution_count": null,
   "metadata": {
    "collapsed": true
   },
   "outputs": [],
   "source": [
    "def to_the_good_range(string_of_generated_floats):\n",
    "    OldMin = min(string_of_generated_floats)\n",
    "    OldMax = max(string_of_generated_floats)\n",
    "\n",
    "    NewMin = data_minim\n",
    "    NewMax = data_maxim\n",
    "    \n",
    "#     print(\" Old Min is \",OldMin)\n",
    "#     print(\" Old Max is \",OldMax)\n",
    "#     print(\" New Min is \",NewMin)\n",
    "#     print(\" New Max is \",NewMax)\n",
    "    \n",
    "    OldRange = (OldMax - OldMin)  \n",
    "    NewRange = (NewMax - NewMin)  \n",
    "\n",
    "    fixed = []\n",
    "    for single in string_of_generated_floats:\n",
    "        new_single = int((((single - OldMin) * NewRange) / OldRange) + NewMin)\n",
    "        fixed.append(new_single)\n",
    "    return fixed\n",
    "\n",
    "#Generating the tune and writing to file\n",
    "def generate_tune(gan_output):\n",
    "#     form = UN_normalize_data(gan_output)\n",
    "    gan_output_UN = to_the_good_range(gan_output)\n",
    "    form = np.zeros((128,len(gan_output_UN)))\n",
    "    for i in range(len(gan_output_UN)):\n",
    "        form[int(gan_output_UN[i])][i]=60\n",
    "    form_midi = piano_roll_to_pretty_midi(form,8,0)\n",
    "    form_midi.write('yoyo.mid')\n",
    "    return form_midi\n",
    "\n",
    "# Make Music Function\n",
    "def make_midi(dble_octvs):\n",
    "    xyz = []\n",
    "    for i in range(dble_octvs):\n",
    "        xyz.append(get_random_in_here(1,16))\n",
    "    xyz_concat = []\n",
    "    for sixteen_notes in xyz:\n",
    "        xyz_concat.extend(G.predict(sixteen_notes)[0])\n",
    "    generate_tune(xyz_concat)"
   ]
  },
  {
   "cell_type": "code",
   "execution_count": null,
   "metadata": {
    "collapsed": false
   },
   "outputs": [],
   "source": [
    "#how many double octaves(16 notes) are to be generated?\n",
    "double_octaves = 10\n",
    "make_midi(double_octaves)"
   ]
  },
  {
   "cell_type": "markdown",
   "metadata": {},
   "source": [
    "# DONT RUN THIS BITCH"
   ]
  },
  {
   "cell_type": "code",
   "execution_count": null,
   "metadata": {
    "collapsed": true
   },
   "outputs": [],
   "source": [
    "a = get_random_in_here(1,16)"
   ]
  },
  {
   "cell_type": "code",
   "execution_count": null,
   "metadata": {
    "collapsed": true
   },
   "outputs": [],
   "source": []
  },
  {
   "cell_type": "code",
   "execution_count": null,
   "metadata": {
    "collapsed": true
   },
   "outputs": [],
   "source": [
    "b = get_random_in_here(1,16)"
   ]
  },
  {
   "cell_type": "code",
   "execution_count": null,
   "metadata": {
    "collapsed": false
   },
   "outputs": [],
   "source": [
    "a"
   ]
  },
  {
   "cell_type": "code",
   "execution_count": null,
   "metadata": {
    "collapsed": false
   },
   "outputs": [],
   "source": [
    "b"
   ]
  },
  {
   "cell_type": "code",
   "execution_count": null,
   "metadata": {
    "collapsed": false
   },
   "outputs": [],
   "source": [
    "a_gen = G.predict(a)\n",
    "b_gen = G.predict(b)"
   ]
  },
  {
   "cell_type": "code",
   "execution_count": null,
   "metadata": {
    "collapsed": false
   },
   "outputs": [],
   "source": []
  },
  {
   "cell_type": "code",
   "execution_count": null,
   "metadata": {
    "collapsed": false
   },
   "outputs": [],
   "source": []
  },
  {
   "cell_type": "code",
   "execution_count": null,
   "metadata": {
    "collapsed": false
   },
   "outputs": [],
   "source": []
  },
  {
   "cell_type": "code",
   "execution_count": null,
   "metadata": {
    "collapsed": false
   },
   "outputs": [],
   "source": [
    "form.shape"
   ]
  },
  {
   "cell_type": "code",
   "execution_count": null,
   "metadata": {
    "collapsed": false
   },
   "outputs": [],
   "source": [
    "form_midi = piano_roll_to_pretty_midi(form,16,0)\n",
    "form_midi.write('New_AI_2.mid')"
   ]
  },
  {
   "cell_type": "code",
   "execution_count": null,
   "metadata": {
    "collapsed": false
   },
   "outputs": [],
   "source": [
    "s = make_midi(10)"
   ]
  },
  {
   "cell_type": "code",
   "execution_count": null,
   "metadata": {
    "collapsed": false
   },
   "outputs": [],
   "source": [
    "r = make_midi(10)"
   ]
  },
  {
   "cell_type": "code",
   "execution_count": null,
   "metadata": {
    "collapsed": false
   },
   "outputs": [],
   "source": [
    "xyz=[]\n",
    "for i in range(5):\n",
    "    xyz.append(get_random_in_here(1,16))\n",
    "xyz_concat = []\n",
    "for sixteen_notes in xyz:\n",
    "    xyz_concat.extend(G.predict(sixteen_notes)[0])\n"
   ]
  },
  {
   "cell_type": "code",
   "execution_count": null,
   "metadata": {
    "collapsed": false
   },
   "outputs": [],
   "source": [
    "# Make Music Function\n",
    "def make_midi(dble_octvs):\n",
    "    xyz = []\n",
    "    for i in range(dble_octvs):\n",
    "        xyz.append(get_random_in_here(1,16))\n",
    "    xyz_concat = []\n",
    "    for sixteen_notes in xyz:\n",
    "        xyz_concat.extend(G.predict(sixteen_notes)[0])\n",
    "        return xyz_concat"
   ]
  },
  {
   "cell_type": "code",
   "execution_count": null,
   "metadata": {
    "collapsed": true
   },
   "outputs": [],
   "source": [
    "D = make_midi(10)"
   ]
  },
  {
   "cell_type": "code",
   "execution_count": null,
   "metadata": {
    "collapsed": true
   },
   "outputs": [],
   "source": [
    "E = make_midi(10)"
   ]
  },
  {
   "cell_type": "code",
   "execution_count": null,
   "metadata": {
    "collapsed": false
   },
   "outputs": [],
   "source": [
    "# def to_the_good_range(string_of_generated_floats):\n",
    "#     OldMin = min(string_of_generated_floats)\n",
    "#     OldMax = max(string_of_generated_floats)\n",
    "\n",
    "#     NewMin = data_minim\n",
    "#     NewMax = data_maxim\n",
    "    \n",
    "#     print(\" Old Min is \",OldMin)\n",
    "#     print(\" Old Max is \",OldMax)\n",
    "#     print(\" New Min is \",NewMin)\n",
    "#     print(\" New Max is \",NewMax)\n",
    "    \n",
    "#     OldRange = (OldMax - OldMin)  \n",
    "#     NewRange = (NewMax - NewMin)  \n",
    "\n",
    "#     fixed = []\n",
    "#     for single in string_of_generated_floats:\n",
    "#         new_single = int((((single - OldMin) * NewRange) / OldRange) + NewMin)\n",
    "#         fixed.append(new_single)\n",
    "#     return fixed\n",
    "    \n",
    "#     form = np.zeros((128,len(fixed)))\n",
    "#     for i in range(len(fixed)):\n",
    "#         form[int(fixed[i])][i]=60\n",
    "#     return form\n",
    "\n",
    "# #Generating the tune and writing to file\n",
    "# def generate_tune(gan_output):\n",
    "#     form = to_the_good_range(gan_output)\n",
    "#     form_midi = piano_roll_to_pretty_midi(form,16,0)\n",
    "#     form_midi.write('TIMEPASS.mid')\n",
    "#     return form_midi"
   ]
  },
  {
   "cell_type": "code",
   "execution_count": null,
   "metadata": {
    "collapsed": false
   },
   "outputs": [],
   "source": [
    "D_f = to_the_good_range(D)\n",
    "E_f = to_the_good_range(E)"
   ]
  },
  {
   "cell_type": "code",
   "execution_count": null,
   "metadata": {
    "collapsed": false
   },
   "outputs": [],
   "source": [
    "D_f==E_f"
   ]
  },
  {
   "cell_type": "code",
   "execution_count": null,
   "metadata": {
    "collapsed": false
   },
   "outputs": [],
   "source": [
    "E_f"
   ]
  },
  {
   "cell_type": "code",
   "execution_count": null,
   "metadata": {
    "collapsed": false
   },
   "outputs": [],
   "source": [
    "D_f"
   ]
  },
  {
   "cell_type": "code",
   "execution_count": null,
   "metadata": {
    "collapsed": false
   },
   "outputs": [],
   "source": [
    "XN_noise"
   ]
  },
  {
   "cell_type": "code",
   "execution_count": null,
   "metadata": {
    "collapsed": false
   },
   "outputs": [],
   "source": [
    "XN_noise_2"
   ]
  },
  {
   "cell_type": "code",
   "execution_count": null,
   "metadata": {
    "collapsed": true
   },
   "outputs": [],
   "source": [
    "XN_noise = get_random_in_here(1,16)"
   ]
  },
  {
   "cell_type": "code",
   "execution_count": null,
   "metadata": {
    "collapsed": false
   },
   "outputs": [],
   "source": [
    "XN_noise"
   ]
  },
  {
   "cell_type": "code",
   "execution_count": null,
   "metadata": {
    "collapsed": true
   },
   "outputs": [],
   "source": [
    "A,B =sample_data_and_gen(G)"
   ]
  },
  {
   "cell_type": "code",
   "execution_count": null,
   "metadata": {
    "collapsed": false
   },
   "outputs": [],
   "source": [
    "def get_ALL_data(n_samples):\n",
    "    return ALL_DATA[:n_samples]"
   ]
  },
  {
   "cell_type": "code",
   "execution_count": null,
   "metadata": {
    "collapsed": false
   },
   "outputs": [],
   "source": []
  },
  {
   "cell_type": "code",
   "execution_count": null,
   "metadata": {
    "collapsed": false
   },
   "outputs": [],
   "source": [
    "ALL_NEW_DATA[34]"
   ]
  },
  {
   "cell_type": "code",
   "execution_count": null,
   "metadata": {
    "collapsed": false
   },
   "outputs": [],
   "source": [
    "data_minim"
   ]
  },
  {
   "cell_type": "code",
   "execution_count": null,
   "metadata": {
    "collapsed": true
   },
   "outputs": [],
   "source": [
    "ALL_DATAx = normalize_data(ALL_DATA)"
   ]
  },
  {
   "cell_type": "code",
   "execution_count": null,
   "metadata": {
    "collapsed": false
   },
   "outputs": [],
   "source": [
    "ALL_DATAy = UN_normalize_data(ALL_DATAx)"
   ]
  },
  {
   "cell_type": "code",
   "execution_count": null,
   "metadata": {
    "collapsed": false
   },
   "outputs": [],
   "source": [
    "ALL_DATAy == ALL_DATA"
   ]
  },
  {
   "cell_type": "code",
   "execution_count": null,
   "metadata": {
    "collapsed": false
   },
   "outputs": [],
   "source": [
    "def sample_data(training_path):\n",
    "    filenames = []\n",
    "    lens = []\n",
    "    fin_midi_stream = []\n",
    "    for filename in os.listdir(training_path):\n",
    "        if filename.endswith('.mid'):\n",
    "            filenames.append(os.path.join(training_path,filename))\n",
    "    fin_midi_streama = []\n",
    "    fin_midi_files = []\n",
    "    for file in filenames:\n",
    "        temp = pretty_midi.PrettyMIDI(file)\n",
    "        melody = temp.instruments[0]\n",
    "    #     chord = temp.instruments[1]\n",
    "        melody_math = melody.get_piano_roll(16)\n",
    "        curr_stream = np.argmax(melody_math, axis=0)\n",
    "        fin_midi_streama.extend(curr_stream)\n",
    "    chop_size = 256\n",
    "    num_of_chops = len(fin_midi_streama)//chop_size\n",
    "    for i in range(num_of_chops):\n",
    "        fin_midi_files.append(fin_midi_streama[(i)*chop_size:(i+1)*chop_size])\n",
    "    \n",
    "    return fin_midi_files"
   ]
  },
  {
   "cell_type": "code",
   "execution_count": null,
   "metadata": {
    "collapsed": true
   },
   "outputs": [],
   "source": [
    "d = sample_data(training_path)"
   ]
  },
  {
   "cell_type": "code",
   "execution_count": null,
   "metadata": {
    "collapsed": false
   },
   "outputs": [],
   "source": [
    "ALL_NEW_DATA[0]"
   ]
  },
  {
   "cell_type": "code",
   "execution_count": null,
   "metadata": {
    "collapsed": false
   },
   "outputs": [],
   "source": []
  },
  {
   "cell_type": "code",
   "execution_count": null,
   "metadata": {
    "collapsed": true
   },
   "outputs": [],
   "source": [
    "data_minim = min(ALL_DATA[0])\n",
    "data_maxim = max(ALL_DATA[0])"
   ]
  },
  {
   "cell_type": "code",
   "execution_count": null,
   "metadata": {
    "collapsed": false
   },
   "outputs": [],
   "source": [
    "data_maxim"
   ]
  },
  {
   "cell_type": "code",
   "execution_count": null,
   "metadata": {
    "collapsed": false
   },
   "outputs": [],
   "source": [
    "e = normalize_data(ALL_DATA)"
   ]
  },
  {
   "cell_type": "code",
   "execution_count": null,
   "metadata": {
    "collapsed": true
   },
   "outputs": [],
   "source": [
    "f = UN_normalize_data(e)"
   ]
  },
  {
   "cell_type": "code",
   "execution_count": null,
   "metadata": {
    "collapsed": false
   },
   "outputs": [],
   "source": [
    "data_minim = min(min(ALL_DATA))\n",
    "data_maxim = max(max(ALL_DATA))"
   ]
  },
  {
   "cell_type": "code",
   "execution_count": null,
   "metadata": {
    "collapsed": false
   },
   "outputs": [],
   "source": []
  },
  {
   "cell_type": "code",
   "execution_count": null,
   "metadata": {
    "collapsed": true
   },
   "outputs": [],
   "source": [
    "s,d = sample_data_and_gen(G)"
   ]
  },
  {
   "cell_type": "code",
   "execution_count": null,
   "metadata": {
    "collapsed": false
   },
   "outputs": [],
   "source": [
    "len(s)"
   ]
  },
  {
   "cell_type": "code",
   "execution_count": null,
   "metadata": {
    "collapsed": true
   },
   "outputs": [],
   "source": [
    "def make_midi(dble_octvs):\n",
    "    xyz = []\n",
    "    for i in range(dble_octvs):\n",
    "        xyz.append(get_random_in_here(1,16))\n",
    "    xyz_concat = []\n",
    "    for sixteen_notes in xyz:\n",
    "        xyz_concat.extend(G.predict(sixteen_notes)[0])\n",
    "    return xyz_concat"
   ]
  },
  {
   "cell_type": "code",
   "execution_count": null,
   "metadata": {
    "collapsed": false
   },
   "outputs": [],
   "source": [
    "def to_the_good_range(string_of_generated_floats):\n",
    "    OldMin = min(string_of_generated_floats)\n",
    "    OldMax = max(string_of_generated_floats)\n",
    "\n",
    "    NewMin = data_minim\n",
    "    NewMax = data_maxim\n",
    "    \n",
    "    print(\" Old Min is \",OldMin)\n",
    "    print(\" Old Max is \",OldMax)\n",
    "    print(\" New Min is \",NewMin)\n",
    "    print(\" New Max is \",NewMax)\n",
    "    \n",
    "    OldRange = (OldMax - OldMin)  \n",
    "    NewRange = (NewMax - NewMin)  \n",
    "\n",
    "    fixed = []\n",
    "    for single in string_of_generated_floats:\n",
    "        new_single = int((((single - OldMin) * NewRange) / OldRange) + NewMin)\n",
    "        fixed.append(new_single)\n",
    "    return fixed"
   ]
  },
  {
   "cell_type": "code",
   "execution_count": null,
   "metadata": {
    "collapsed": false
   },
   "outputs": [],
   "source": [
    "\n"
   ]
  },
  {
   "cell_type": "code",
   "execution_count": null,
   "metadata": {
    "collapsed": false
   },
   "outputs": [],
   "source": [
    "r[:10]"
   ]
  },
  {
   "cell_type": "code",
   "execution_count": null,
   "metadata": {
    "collapsed": false
   },
   "outputs": [],
   "source": [
    "q,w = sample_data_and_gen(G)"
   ]
  },
  {
   "cell_type": "code",
   "execution_count": null,
   "metadata": {
    "collapsed": false
   },
   "outputs": [],
   "source": [
    "q"
   ]
  },
  {
   "cell_type": "code",
   "execution_count": null,
   "metadata": {
    "collapsed": false
   },
   "outputs": [],
   "source": [
    "ALL_NEW_DATA = normalize_data(ALL_DATA)"
   ]
  },
  {
   "cell_type": "code",
   "execution_count": null,
   "metadata": {
    "collapsed": false
   },
   "outputs": [],
   "source": [
    "len(ALL_DATA)"
   ]
  },
  {
   "cell_type": "code",
   "execution_count": null,
   "metadata": {
    "collapsed": true
   },
   "outputs": [],
   "source": []
  }
 ],
 "metadata": {
  "kernelspec": {
   "display_name": "Python 3",
   "language": "python",
   "name": "python3"
  },
  "language_info": {
   "codemirror_mode": {
    "name": "ipython",
    "version": 3
   },
   "file_extension": ".py",
   "mimetype": "text/x-python",
   "name": "python",
   "nbconvert_exporter": "python",
   "pygments_lexer": "ipython3",
   "version": "3.5.3"
  }
 },
 "nbformat": 4,
 "nbformat_minor": 0
}
