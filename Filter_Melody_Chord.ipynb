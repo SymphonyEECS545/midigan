{
 "cells": [
  {
   "cell_type": "code",
   "execution_count": 1,
   "metadata": {
    "collapsed": true
   },
   "outputs": [],
   "source": [
    "import numpy as np\n",
    "import pretty_midi\n",
    "import sys\n",
    "import os\n",
    "import pandas as pd"
   ]
  },
  {
   "cell_type": "code",
   "execution_count": 2,
   "metadata": {},
   "outputs": [],
   "source": [
    "root = \"/Users/sbnahata/Documents/University of Michigan/EECS 545/Project/DataSetTest\""
   ]
  },
  {
   "cell_type": "code",
   "execution_count": 3,
   "metadata": {},
   "outputs": [],
   "source": [
    "def parse_instruments (a, target_filename):\n",
    "    idx = -1\n",
    "    melody_idx = -1\n",
    "    chord_idx = -1\n",
    "    count_melody1 = 0\n",
    "    count_chord1 = 0\n",
    "    for inst in a.instruments:\n",
    "        idx = idx + 1\n",
    "        piano_roll = inst.get_piano_roll(16)\n",
    "        index = ['Row'+str(j) for j in range(1, len(piano_roll)+1)]\n",
    "        df = pd.DataFrame(piano_roll, index=index)\n",
    "        p = df.astype(bool).sum(axis=0)\n",
    "        count_melody = p[p==1].sum()\n",
    "        count_chord = p[p>=3].sum()\n",
    "        if count_melody > count_melody1:\n",
    "            melody_idx = idx\n",
    "            count_melody1 = count_melody\n",
    "        if count_chord > count_chord1:\n",
    "            chord_idx = idx\n",
    "            count_chord1 = count_chord\n",
    "    if melody_idx >= 0 and chord_idx >= 0:\n",
    "        pm = pretty_midi.PrettyMIDI()\n",
    "        instrument = a.instruments[melody_idx]\n",
    "        instrument.program = 1\n",
    "        pm.instruments.append(instrument)\n",
    "        instrument = a.instruments[chord_idx]\n",
    "        instrument.program = 26\n",
    "        pm.instruments.append(instrument)\n",
    "        pm.write(\"/Users/sbnahata/Documents/University of Michigan/EECS 545/Project/Training Data/\" + target_filename)\n",
    "        return 1\n",
    "    else:\n",
    "        return 0"
   ]
  },
  {
   "cell_type": "code",
   "execution_count": 4,
   "metadata": {},
   "outputs": [],
   "source": [
    "def walk_dataset (root):\n",
    "    count = 0\n",
    "    counterr = 0\n",
    "    for path, subdirs, files in os.walk(root):\n",
    "        for midifile in files:\n",
    "            if midifile.startswith('.') or not midifile.endswith('.mid'):\n",
    "                continue\n",
    "            else:  \n",
    "                try:\n",
    "                    midi_data = pretty_midi.PrettyMIDI(os.path.join(path, midifile))\n",
    "                    target_filename = \"Test_\" + midifile\n",
    "                    count = count + parse_instruments(midi_data, target_filename)\n",
    "                except:\n",
    "                    counterr = counterr + 1\n",
    "                    print(\"Failure number: \", counterr)\n",
    "                    pass\n",
    "            if (count%20 == 0):\n",
    "                print(\"Number of test songs created: \", count)\n",
    "            if (count==1000 or counterr==100):\n",
    "                return;"
   ]
  },
  {
   "cell_type": "code",
   "execution_count": 5,
   "metadata": {
    "scrolled": false
   },
   "outputs": [
    {
     "name": "stderr",
     "output_type": "stream",
     "text": [
      "/Users/sbnahata/anaconda3/lib/python3.6/site-packages/pretty_midi/pretty_midi.py:100: RuntimeWarning: Tempo, Key or Time signature change events found on non-zero tracks.  This is not a valid type 0 or type 1 MIDI file.  Tempo, Key or Time Signature may be wrong.\n",
      "  RuntimeWarning)\n"
     ]
    },
    {
     "name": "stdout",
     "output_type": "stream",
     "text": [
      "Failure number:  1\n",
      "Number of test songs created:  20\n",
      "Number of test songs created:  40\n",
      "Number of test songs created:  60\n",
      "Failure number:  2\n",
      "Number of test songs created:  80\n",
      "Number of test songs created:  100\n",
      "Number of test songs created:  120\n",
      "Number of test songs created:  140\n",
      "Number of test songs created:  160\n",
      "Number of test songs created:  180\n",
      "Number of test songs created:  200\n",
      "Number of test songs created:  220\n",
      "Failure number:  3\n",
      "Number of test songs created:  240\n",
      "Number of test songs created:  260\n",
      "Number of test songs created:  280\n",
      "Number of test songs created:  300\n",
      "Number of test songs created:  300\n",
      "Number of test songs created:  320\n",
      "Number of test songs created:  340\n",
      "Number of test songs created:  360\n",
      "Number of test songs created:  380\n",
      "Failure number:  4\n",
      "Number of test songs created:  400\n",
      "Number of test songs created:  400\n",
      "Failure number:  5\n",
      "Number of test songs created:  420\n",
      "Number of test songs created:  420\n",
      "Number of test songs created:  440\n",
      "Failure number:  6\n",
      "Number of test songs created:  460\n",
      "Failure number:  7\n",
      "Number of test songs created:  460\n",
      "Failure number:  8\n",
      "Failure number:  9\n",
      "Number of test songs created:  480\n",
      "Number of test songs created:  500\n",
      "Number of test songs created:  520\n",
      "Number of test songs created:  540\n",
      "Failure number:  10\n",
      "Number of test songs created:  560\n",
      "Number of test songs created:  580\n",
      "Number of test songs created:  600\n",
      "Number of test songs created:  620\n",
      "Number of test songs created:  640\n",
      "Number of test songs created:  640\n",
      "Number of test songs created:  640\n",
      "Number of test songs created:  660\n",
      "Number of test songs created:  680\n",
      "Number of test songs created:  700\n",
      "Number of test songs created:  720\n",
      "Number of test songs created:  720\n",
      "Number of test songs created:  740\n",
      "Number of test songs created:  760\n",
      "Number of test songs created:  780\n",
      "Number of test songs created:  800\n",
      "Number of test songs created:  820\n",
      "Number of test songs created:  840\n",
      "Number of test songs created:  860\n",
      "Failure number:  11\n",
      "Number of test songs created:  880\n",
      "Number of test songs created:  880\n",
      "Number of test songs created:  880\n",
      "Failure number:  12\n",
      "Failure number:  13\n",
      "Number of test songs created:  900\n",
      "Number of test songs created:  900\n",
      "Number of test songs created:  900\n",
      "Number of test songs created:  920\n",
      "Number of test songs created:  940\n",
      "Number of test songs created:  960\n",
      "Number of test songs created:  980\n",
      "Failure number:  14\n",
      "Number of test songs created:  980\n",
      "Number of test songs created:  980\n",
      "Number of test songs created:  980\n",
      "Number of test songs created:  980\n",
      "Number of test songs created:  980\n",
      "Failure number:  15\n",
      "Failure number:  16\n",
      "Number of test songs created:  1000\n"
     ]
    }
   ],
   "source": [
    "walk_dataset(root)"
   ]
  },
  {
   "cell_type": "code",
   "execution_count": null,
   "metadata": {
    "collapsed": true
   },
   "outputs": [],
   "source": []
  }
 ],
 "metadata": {
  "kernelspec": {
   "display_name": "Python 3",
   "language": "python",
   "name": "python3"
  },
  "language_info": {
   "codemirror_mode": {
    "name": "ipython",
    "version": 3
   },
   "file_extension": ".py",
   "mimetype": "text/x-python",
   "name": "python",
   "nbconvert_exporter": "python",
   "pygments_lexer": "ipython3",
   "version": "3.6.3"
  }
 },
 "nbformat": 4,
 "nbformat_minor": 2
}
