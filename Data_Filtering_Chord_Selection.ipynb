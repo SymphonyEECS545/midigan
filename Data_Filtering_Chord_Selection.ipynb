{
 "cells": [
  {
   "cell_type": "code",
   "execution_count": 1,
   "metadata": {
    "collapsed": true
   },
   "outputs": [],
   "source": [
    "import numpy as np\n",
    "import pretty_midi\n",
    "import sys\n",
    "import os\n",
    "import pandas as pd"
   ]
  },
  {
   "cell_type": "code",
   "execution_count": 2,
   "metadata": {
    "collapsed": true
   },
   "outputs": [],
   "source": [
    "chords_major = ['C', 'C#', 'D', 'D#', 'E', 'F', 'F#', 'G', 'G#', 'A', 'A#', 'B']\n",
    "chords_minor = ['A1', 'A#1', 'B1', 'C1', 'C#1', 'D1', 'D#1', 'E1', 'F1', 'F#1', 'G1', 'G#1']\n",
    "chord_map = {\n",
    "    'C': ['C4', 'E4', 'G4'],\n",
    "    'C#': ['C#4', 'F4', 'G#4'], \n",
    "    'D': ['D4', 'F#4', 'A4'], \n",
    "    'D#': ['D#4', 'G4', 'A#4'], \n",
    "    'E': ['E4', 'G#4', 'B4'],\n",
    "    'F': ['F4', 'A4', 'C4'],\n",
    "    'F#': ['F#4', 'A#4', 'C#4'], \n",
    "    'G': ['G4', 'B4', 'D4'],\n",
    "    'G#': ['G#4', 'C4', 'D#4'], \n",
    "    'A': ['A4', 'C#4', 'E4'], \n",
    "    'A#': ['A#4', 'D4', 'F4'], \n",
    "    'B': ['B4', 'D#4', 'F#4'],\n",
    "    'A1': ['A4', 'C4', 'E4'], \n",
    "    'A#1': ['A#4', 'C#4', 'E#4'],\n",
    "    'B1': ['B4', 'D4', 'F#4'],\n",
    "    'C1': ['C4', 'D#4', 'G4'],\n",
    "    'C#1': ['C#4', 'E4', 'G#4'],\n",
    "    'D1': ['D4', 'F4', 'A4'],\n",
    "    'D#1': ['D#4', 'F#4', 'A#4'], \n",
    "    'E1': ['E4', 'G4', 'B4'],\n",
    "    'F1': ['F4', 'G#4', 'C4'],\n",
    "    'F#1': ['F#4', 'A4', 'C#4'],\n",
    "    'G1': ['G4', 'A#4', 'D4'],\n",
    "    'G#1': ['G#4', 'B4', 'D4']\n",
    "}"
   ]
  },
  {
   "cell_type": "code",
   "execution_count": 3,
   "metadata": {
    "collapsed": true
   },
   "outputs": [],
   "source": [
    "C = np.zeros((24,128))\n",
    "c = 0\n",
    "for i in chords_major:\n",
    "    for j in chord_map[i]:\n",
    "        C[c,pretty_midi.note_name_to_number(j)]=1\n",
    "    c = c+1"
   ]
  },
  {
   "cell_type": "code",
   "execution_count": 4,
   "metadata": {
    "collapsed": true
   },
   "outputs": [],
   "source": [
    "def piano_roll_to_pretty_midi(piano_roll, sf=16, program_num=1):\n",
    "    \"\"\"Convert piano roll to a single instrument pretty_midi object\"\"\"\n",
    "    notes, frames = piano_roll.shape\n",
    "    pm = pretty_midi.PrettyMIDI()\n",
    "    instrument = pretty_midi.Instrument(program=program_num)\n",
    " \n",
    "    #prepend,append zeros so we can acknowledge inital and ending events\n",
    "    piano_roll = np.hstack((np.zeros((notes, 1)),\n",
    "                                 piano_roll,\n",
    "                                 np.zeros((notes, 1))))\n",
    " \n",
    "    velocity_changes = np.nonzero(np.diff(piano_roll).T)\n",
    "    current_velocities = np.zeros(notes,dtype=int)\n",
    "    note_on_time = np.zeros(notes)\n",
    "\n",
    "    for time, note in zip(*velocity_changes):\n",
    "        velocity = piano_roll[note, time + 1]\n",
    "        time = time / sf\n",
    "        if velocity > 0:\n",
    "            if current_velocities[note] == 0:\n",
    "                #print('note {} on'.format(pretty_midi.note_number_to_name(note)))\n",
    "                #print('starting at time {} with velocity {}'.format(time,velocity))\n",
    "                note_on_time[note] = time\n",
    "                current_velocities[note] = velocity\n",
    "            elif current_velocities[note] > 0:\n",
    "                #change velocity with a special MIDI message\n",
    "                pass\n",
    "        else:\n",
    "            #print('note {} off'.format(pretty_midi.note_number_to_name(note)))\n",
    "            #print('ending at time {}'.format(time))\n",
    "            pm_note = pretty_midi.Note(\n",
    "            velocity=current_velocities[note],\n",
    "            pitch=note,\n",
    "            start=note_on_time[note],\n",
    "            end=time)\n",
    "            instrument.notes.append(pm_note)\n",
    "            current_velocities[note] = 0\n",
    "    pm.instruments.append(instrument)\n",
    "    return pm"
   ]
  },
  {
   "cell_type": "code",
   "execution_count": 5,
   "metadata": {
    "collapsed": true
   },
   "outputs": [],
   "source": [
    "def shift_notes (piano_roll):\n",
    "    \"\"\"Shifts all notes into two octaves from C4 to B5\"\"\"\n",
    "    r, c = np.shape(piano_roll)\n",
    "    i=0\n",
    "    piano_superimpose = np.zeros((16,c))\n",
    "    while (i < 128):\n",
    "        piano_superimpose = piano_superimpose + piano_roll[i:i+16,:]\n",
    "        i = i + 16\n",
    "    new_piano_roll = np.concatenate((np.zeros((72,c)), piano_superimpose, np.zeros((40,c))))\n",
    "    return new_piano_roll"
   ]
  },
  {
   "cell_type": "code",
   "execution_count": 6,
   "metadata": {
    "collapsed": true
   },
   "outputs": [],
   "source": [
    "def filter_chords (piano_roll):\n",
    "    \"\"\"Filter out the 12 basic chord triads\"\"\"\n",
    "    chords_present = np.dot(C,piano_roll)\n",
    "    chords_selected = np.where((chords_present>0) & (chords_present==np.amax(chords_present,axis=0)),1,0)\n",
    "    chords_filtered = np.dot(np.transpose(C),chords_selected)\n",
    "    return chords_filtered"
   ]
  },
  {
   "cell_type": "code",
   "execution_count": 7,
   "metadata": {
    "collapsed": true
   },
   "outputs": [],
   "source": [
    "def parse_instruments (a, target_filename):\n",
    "    idx = -1\n",
    "    melody_idx = -1\n",
    "    chord_idx = -1\n",
    "    count_melody1 = 0\n",
    "    count_chord1 = 0\n",
    "    for inst in a.instruments:\n",
    "        idx = idx + 1\n",
    "        piano_roll = shift_notes(inst.get_piano_roll(16))\n",
    "        index = ['Row'+str(j) for j in range(1, len(piano_roll)+1)]\n",
    "        df = pd.DataFrame(piano_roll, index=index)\n",
    "        p = df.astype(bool).sum(axis=0)\n",
    "        count_melody = p[p==1].sum()\n",
    "        count_chord = p[p>=3].sum()\n",
    "        if count_melody > count_melody1:\n",
    "            melody_idx = idx\n",
    "            count_melody1 = count_melody\n",
    "        if count_chord > count_chord1:\n",
    "            chord_idx = idx\n",
    "            count_chord1 = count_chord\n",
    "    if melody_idx >= 0 and chord_idx >= 0:\n",
    "        pm = pretty_midi.PrettyMIDI()\n",
    "        \n",
    "        instrument = a.instruments[melody_idx]\n",
    "        prm = shift_notes(instrument.get_piano_roll(16))\n",
    "        pmm = piano_roll_to_pretty_midi(prm,16,1)\n",
    "        pm.instruments.append(pmm.instruments[0])\n",
    "        \n",
    "        instrument = a.instruments[chord_idx]\n",
    "        prc = filter_chords(instrument.get_piano_roll(16))\n",
    "        pmc = piano_roll_to_pretty_midi(prc,16,26)\n",
    "        pm.instruments.append(pmc.instruments[0])\n",
    "        pm.write(\"/Users/sbnahata/Documents/University of Michigan/EECS 545/Training Stage 1/\" + target_filename)\n",
    "        return 1\n",
    "    else:\n",
    "        return 0"
   ]
  },
  {
   "cell_type": "code",
   "execution_count": 12,
   "metadata": {
    "collapsed": true
   },
   "outputs": [],
   "source": [
    "def walk_dataset (root):\n",
    "    count = 0\n",
    "    counterr = 0\n",
    "    for path, subdirs, files in os.walk(root):\n",
    "        for midifile in files:\n",
    "            if midifile.startswith('.') or not midifile.endswith('.mid'):\n",
    "                continue\n",
    "            else:  \n",
    "                try:\n",
    "                    midi_data = pretty_midi.PrettyMIDI(os.path.join(path, midifile))\n",
    "                    target_filename = \"Test_\" + midifile\n",
    "                    count = count + parse_instruments(midi_data, target_filename)\n",
    "                except:\n",
    "                    counterr = counterr + 1\n",
    "                    print(\"Failure number: \", counterr)\n",
    "                    pass\n",
    "            if (count%20 == 0):\n",
    "                print(\"Number of test songs created: \", count)\n",
    "            if (count==1000 or counterr==500):\n",
    "                return;"
   ]
  },
  {
   "cell_type": "code",
   "execution_count": null,
   "metadata": {
    "collapsed": false
   },
   "outputs": [
    {
     "name": "stderr",
     "output_type": "stream",
     "text": [
      "/Users/sbnahata/anaconda3/lib/python3.6/site-packages/pretty_midi/pretty_midi.py:100: RuntimeWarning: Tempo, Key or Time signature change events found on non-zero tracks.  This is not a valid type 0 or type 1 MIDI file.  Tempo, Key or Time Signature may be wrong.\n",
      "  RuntimeWarning)\n"
     ]
    },
    {
     "name": "stdout",
     "output_type": "stream",
     "text": [
      "Failure number:  1\n",
      "Failure number:  2\n",
      "Failure number:  3\n",
      "Failure number:  4\n",
      "Failure number:  5\n",
      "Number of test songs created:  20\n",
      "Failure number:  6\n",
      "Failure number:  7\n",
      "Failure number:  8\n",
      "Number of test songs created:  40\n",
      "Number of test songs created:  40\n",
      "Failure number:  9\n",
      "Failure number:  10\n",
      "Failure number:  11\n",
      "Failure number:  12\n",
      "Number of test songs created:  60\n",
      "Failure number:  13\n",
      "Failure number:  14\n",
      "Failure number:  15\n",
      "Failure number:  16\n",
      "Failure number:  17\n",
      "Failure number:  18\n",
      "Number of test songs created:  80\n",
      "Failure number:  19\n",
      "Failure number:  20\n",
      "Failure number:  21\n",
      "Failure number:  22\n",
      "Failure number:  23\n",
      "Failure number:  24\n",
      "Number of test songs created:  100\n",
      "Failure number:  25\n",
      "Failure number:  26\n",
      "Failure number:  27\n",
      "Failure number:  28\n",
      "Failure number:  29\n",
      "Failure number:  30\n",
      "Failure number:  31\n",
      "Failure number:  32\n",
      "Failure number:  33\n",
      "Number of test songs created:  120\n",
      "Number of test songs created:  120\n",
      "Number of test songs created:  120\n",
      "Failure number:  34\n",
      "Number of test songs created:  120\n",
      "Failure number:  35\n",
      "Failure number:  36\n",
      "Failure number:  37\n",
      "Failure number:  38\n",
      "Failure number:  39\n",
      "Failure number:  40\n",
      "Failure number:  41\n",
      "Failure number:  42\n",
      "Failure number:  43\n",
      "Failure number:  44\n",
      "Failure number:  45\n",
      "Failure number:  46\n",
      "Failure number:  47\n",
      "Failure number:  48\n",
      "Failure number:  49\n",
      "Failure number:  50\n",
      "Failure number:  51\n",
      "Failure number:  52\n",
      "Failure number:  53\n",
      "Failure number:  54\n",
      "Number of test songs created:  140\n",
      "Failure number:  55\n",
      "Number of test songs created:  140\n",
      "Failure number:  56\n",
      "Number of test songs created:  160\n",
      "Failure number:  57\n",
      "Failure number:  58\n",
      "Failure number:  59\n",
      "Failure number:  60\n",
      "Failure number:  61\n",
      "Failure number:  62\n",
      "Failure number:  63\n",
      "Failure number:  64\n",
      "Failure number:  65\n",
      "Failure number:  66\n",
      "Failure number:  67\n",
      "Failure number:  68\n",
      "Failure number:  69\n",
      "Failure number:  70\n",
      "Failure number:  71\n",
      "Failure number:  72\n",
      "Failure number:  73\n",
      "Number of test songs created:  180\n",
      "Failure number:  74\n",
      "Number of test songs created:  180\n",
      "Failure number:  75\n",
      "Failure number:  76\n",
      "Failure number:  77\n",
      "Number of test songs created:  200\n",
      "Failure number:  78\n",
      "Number of test songs created:  200\n",
      "Failure number:  79\n",
      "Failure number:  80\n"
     ]
    }
   ],
   "source": [
    "root = \"/Users/sbnahata/Documents/University of Michigan/EECS 545/DataSetTest\"\n",
    "walk_dataset(root)"
   ]
  },
  {
   "cell_type": "code",
   "execution_count": null,
   "metadata": {
    "collapsed": true
   },
   "outputs": [],
   "source": [
    "instrument = midi_data.instruments[0]\n",
    "piano_roll = instrument.get_piano_roll(16)"
   ]
  },
  {
   "cell_type": "code",
   "execution_count": null,
   "metadata": {
    "collapsed": true
   },
   "outputs": [],
   "source": [
    "npr = shift_notes(piano_roll)"
   ]
  },
  {
   "cell_type": "code",
   "execution_count": null,
   "metadata": {
    "collapsed": true
   },
   "outputs": [],
   "source": [
    "pm = piano_roll_to_pretty_midi(npr,16,1)"
   ]
  },
  {
   "cell_type": "code",
   "execution_count": null,
   "metadata": {
    "collapsed": true
   },
   "outputs": [],
   "source": [
    "pm.write(\"/Users/sbnahata/Documents/University of Michigan/EECS 545/Project/S8.mid\")"
   ]
  },
  {
   "cell_type": "code",
   "execution_count": null,
   "metadata": {
    "collapsed": true
   },
   "outputs": [],
   "source": [
    "instrument = midi_data.instruments[3]\n",
    "piano_roll = instrument.get_piano_roll(16)"
   ]
  },
  {
   "cell_type": "code",
   "execution_count": null,
   "metadata": {
    "collapsed": true
   },
   "outputs": [],
   "source": [
    "pm3 = piano_roll_to_pretty_midi(filter_chords(piano_roll),16,27)"
   ]
  },
  {
   "cell_type": "code",
   "execution_count": null,
   "metadata": {
    "collapsed": true
   },
   "outputs": [],
   "source": [
    "pm3.write(\"/Users/sbnahata/Documents/University of Michigan/EECS 545/Project/S16Chords.mid\")"
   ]
  },
  {
   "cell_type": "code",
   "execution_count": null,
   "metadata": {
    "collapsed": true
   },
   "outputs": [],
   "source": [
    "parse_instruments(midi_data,\"STest.mid\")"
   ]
  },
  {
   "cell_type": "code",
   "execution_count": null,
   "metadata": {
    "collapsed": true
   },
   "outputs": [],
   "source": []
  }
 ],
 "metadata": {
  "kernelspec": {
   "display_name": "Python 3",
   "language": "python",
   "name": "python3"
  },
  "language_info": {
   "codemirror_mode": {
    "name": "ipython",
    "version": 3
   },
   "file_extension": ".py",
   "mimetype": "text/x-python",
   "name": "python",
   "nbconvert_exporter": "python",
   "pygments_lexer": "ipython3",
   "version": "3.5.3"
  }
 },
 "nbformat": 4,
 "nbformat_minor": 2
}
