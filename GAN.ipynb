{
 "cells": [
  {
   "cell_type": "markdown",
   "metadata": {},
   "source": [
    "# Run all cells in order and read comments to understand what happens exactly."
   ]
  },
  {
   "cell_type": "code",
   "execution_count": null,
   "metadata": {
    "collapsed": false
   },
   "outputs": [],
   "source": [
    "# Dem Libraries!\n",
    "%matplotlib inline\n",
    "import os\n",
    "import random\n",
    "import numpy as np\n",
    "import pandas as pd\n",
    "import matplotlib.pyplot as plt\n",
    "import seaborn as sns\n",
    "from tqdm import tqdm_notebook as tqdm\n",
    "from keras.models import Model\n",
    "from keras.layers import Input, Reshape\n",
    "from keras.layers.core import Dense, Activation, Dropout, Flatten\n",
    "from keras.layers.normalization import BatchNormalization\n",
    "from keras.layers.convolutional import UpSampling1D, Conv1D\n",
    "from keras.layers.advanced_activations import LeakyReLU\n",
    "from keras.optimizers import Adam, SGD\n",
    "from keras.callbacks import TensorBoard\n",
    "import pretty_midi"
   ]
  },
  {
   "cell_type": "code",
   "execution_count": null,
   "metadata": {
    "collapsed": false
   },
   "outputs": [],
   "source": [
    "# To get the sine waves data\n",
    "# n_samples : Number of sine waves you want generated\n",
    "def sample_data(n_samples=10000, x_vals=np.arange(0, 5, .1), max_offset=100, mul_range=[1, 2]):\n",
    "    vectors = []\n",
    "    for i in range(n_samples):\n",
    "        offset = np.random.random() * max_offset\n",
    "#         print(\"Offset\",offset)\n",
    "        mul = mul_range[0] + np.random.random() * (mul_range[1] - mul_range[0])\n",
    "#         print(\"Mul\",mul)\n",
    "        vectors.append(\n",
    "            np.sin(offset + x_vals * mul) / 2 + .5\n",
    "        )\n",
    "    return np.array(vectors)\n",
    "\n",
    "#Plot 5 sine waves as a test to visually check if it works\n",
    "ax = pd.DataFrame(np.transpose(sample_data(5))).plot()"
   ]
  },
  {
   "cell_type": "code",
   "execution_count": null,
   "metadata": {
    "collapsed": false
   },
   "outputs": [],
   "source": [
    "#Generator Model :\n",
    "# Needs to be able to take in random noise and generate realistic looking output data\n",
    "\n",
    "def get_generative(G_in, dense_dim=200, out_dim=50, lr=1e-3):\n",
    "    x = Dense(dense_dim)(G_in)\n",
    "    x = Activation('tanh')(x)\n",
    "    G_out = Dense(out_dim, activation='tanh')(x)\n",
    "    G = Model(G_in, G_out)\n",
    "    opt = SGD(lr=lr)\n",
    "    G.compile(loss='binary_crossentropy', optimizer=opt)\n",
    "    return G, G_out\n",
    "\n",
    "G_in = Input(shape=[10])\n",
    "G, G_out = get_generative(G_in)\n",
    "G.summary()"
   ]
  },
  {
   "cell_type": "code",
   "execution_count": null,
   "metadata": {
    "collapsed": false
   },
   "outputs": [],
   "source": []
  },
  {
   "cell_type": "code",
   "execution_count": null,
   "metadata": {
    "collapsed": false
   },
   "outputs": [],
   "source": [
    "#Discriminator Model :\n",
    "# Needs to be able to take in a generated signal and distinguish between real and fake(generated)\n",
    "\n",
    "def get_discriminative(D_in, lr=1e-3, drate=.25, n_channels=50, conv_sz=5, leak=.2):\n",
    "    x = Reshape((-1, 1))(D_in)\n",
    "    \n",
    "    x = Conv1D(n_channels, conv_sz, activation='relu')(x)\n",
    "    x = Dropout(drate)(x)\n",
    "    x = Flatten()(x)\n",
    "    x = Dense(n_channels)(x)\n",
    "    D_out = Dense(2, activation='sigmoid')(x)\n",
    "    D = Model(D_in, D_out)\n",
    "    dopt = Adam(lr=lr)\n",
    "    D.compile(loss='binary_crossentropy', optimizer=dopt)\n",
    "    return D, D_out\n",
    "\n",
    "D_in = Input(shape=[50])\n",
    "D, D_out = get_discriminative(D_in)\n",
    "D.summary()"
   ]
  },
  {
   "cell_type": "code",
   "execution_count": null,
   "metadata": {
    "collapsed": false
   },
   "outputs": [],
   "source": [
    "# Function to make sure the Discriminators weights are frozen, while training the Generator\n",
    "def set_trainability(model, trainable=False):\n",
    "    model.trainable = trainable\n",
    "    for layer in model.layers:\n",
    "        layer.trainable = trainable\n",
    "\n",
    "        \n",
    "def make_gan(GAN_in, G, D):\n",
    "    set_trainability(D, False)\n",
    "    x = G(GAN_in)\n",
    "    GAN_out = D(x)\n",
    "    GAN = Model(GAN_in, GAN_out)\n",
    "    GAN.compile(loss='binary_crossentropy', optimizer=G.optimizer)\n",
    "    return GAN, GAN_out\n",
    "\n",
    "GAN_in = Input([10])\n",
    "GAN, GAN_out = make_gan(GAN_in, G, D)\n",
    "GAN.summary()"
   ]
  },
  {
   "cell_type": "code",
   "execution_count": null,
   "metadata": {
    "collapsed": true
   },
   "outputs": [],
   "source": [
    "# Function to get a concatenated input of real_data and fake_data with appropriate concatenated labels\n",
    "def sample_data_and_gen(G, noise_dim=10, n_samples=10000):\n",
    "    # Generated Real Samples \n",
    "    XT = sample_data(n_samples=n_samples)\n",
    "    # Get the random noise that'll be used to generate the fake data\n",
    "    XN_noise = np.random.uniform(0, 1, size=[n_samples, noise_dim])\n",
    "    # Generate the Fake Samples\n",
    "    XN = G.predict(XN_noise)\n",
    "    # Concatenat the Real and Fake Data\n",
    "    X = np.concatenate((XT, XN))\n",
    "    # Concatenate the labels and set the appropriate values\n",
    "    y = np.zeros((2*n_samples, 2))\n",
    "    y[:n_samples, 1] = 1\n",
    "    y[n_samples:, 0] = 1\n",
    "    return X, y\n",
    "\n",
    "def pretrain(G, D, noise_dim=10, n_samples=10000, batch_size=32):\n",
    "    # Get the real samples for the pretraining of the discriminator\n",
    "    X, y = sample_data_and_gen(G, n_samples=n_samples, noise_dim=noise_dim)\n",
    "    # Allow the Discriminator to be trained\n",
    "    set_trainability(D, True)\n",
    "    # Fit the Discriminator with 1 epoch\n",
    "    D.fit(X, y, epochs=1, batch_size=batch_size)\n"
   ]
  },
  {
   "cell_type": "code",
   "execution_count": null,
   "metadata": {
    "collapsed": false
   },
   "outputs": [],
   "source": [
    "# Perform One Train run for the Determiner\n",
    "pretrain(G, D)"
   ]
  },
  {
   "cell_type": "code",
   "execution_count": null,
   "metadata": {
    "collapsed": true
   },
   "outputs": [],
   "source": [
    "# Get sample noise for the GAN training cycle\n",
    "def sample_noise(G, noise_dim=10, n_samples=10000):\n",
    "    X = np.random.uniform(0, 1, size=[n_samples, noise_dim])\n",
    "    y = np.zeros((n_samples, 2))\n",
    "    y[:, 1] = 1\n",
    "    return X, y\n",
    "\n",
    "# Training the GAN by backpropagating the losses of the discriminator on the generated samples, \n",
    "# whilst freezing discriminator weights\n",
    "\n",
    "def train(GAN, G, D, epochs=50, n_samples=10000, noise_dim=10, batch_size=32, verbose=False, v_freq=50):\n",
    "    d_loss = []\n",
    "    g_loss = []\n",
    "    e_range = range(epochs)\n",
    "    if verbose:\n",
    "        e_range = tqdm(e_range)\n",
    "    #For each EPOCH\n",
    "    for epoch in e_range:\n",
    "        # Get True and Generated Samples with Labels\n",
    "        X, y = sample_data_and_gen(G, n_samples=n_samples, noise_dim=noise_dim)\n",
    "        # Allow Discriminator to be Trained\n",
    "        set_trainability(D, True)\n",
    "        # Evaluate the Discriminator loss on this set(only to record loss)\n",
    "        d_loss.append(D.train_on_batch(X, y))\n",
    "        \n",
    "        # Now just get the generated samples\n",
    "        X, y = sample_noise(G, n_samples=n_samples, noise_dim=noise_dim)\n",
    "        # Freeze the Discriminator Weights\n",
    "        set_trainability(D, False)\n",
    "        # Evaluate the Generator loss on this set\n",
    "        g_loss.append(GAN.train_on_batch(X, y))\n",
    "        if verbose and (epoch + 1) % v_freq == 0:\n",
    "            print(\"Epoch #{}: Generative Loss: {}, Discriminative Loss: {}\".format(epoch + 1, g_loss[-1], d_loss[-1]))\n",
    "    return d_loss, g_loss\n"
   ]
  },
  {
   "cell_type": "code",
   "execution_count": null,
   "metadata": {
    "collapsed": false
   },
   "outputs": [],
   "source": [
    "d_loss, g_loss = train(GAN, G, D, verbose=True)"
   ]
  },
  {
   "cell_type": "code",
   "execution_count": null,
   "metadata": {
    "collapsed": false
   },
   "outputs": [],
   "source": [
    "N_VIEWED_SAMPLES = 2\n",
    "data_and_gen, _ = sample_data_and_gen(G, n_samples=N_VIEWED_SAMPLES)\n",
    "\n",
    "#To View the Generated Output\n",
    "pd.DataFrame(np.transpose(data_and_gen[N_VIEWED_SAMPLES:])).plot()\n",
    "#To View a smoothened version of the Generated Output(using a rollling mean)\n",
    "#pd.DataFrame(np.transpose(data_and_gen[N_VIEWED_SAMPLES:])).rolling(5).mean()[5:].plot()\n"
   ]
  },
  {
   "cell_type": "code",
   "execution_count": null,
   "metadata": {
    "collapsed": true
   },
   "outputs": [],
   "source": [
    "ax = pd.DataFrame(\n",
    "    {\n",
    "        'Generative Loss': g_loss,\n",
    "        'Discriminative Loss': d_loss,\n",
    "    }\n",
    ").plot(title='Training loss', logy=True)\n",
    "ax.set_xlabel(\"Epochs\")\n",
    "ax.set_ylabel(\"Loss\")"
   ]
  },
  {
   "cell_type": "markdown",
   "metadata": {},
   "source": [
    "# Code following this is for playing around to understand how the MidiGan dataset is made"
   ]
  },
  {
   "cell_type": "code",
   "execution_count": null,
   "metadata": {
    "collapsed": false
   },
   "outputs": [],
   "source": [
    "instru = open('./trial/instruments.json')"
   ]
  },
  {
   "cell_type": "code",
   "execution_count": null,
   "metadata": {
    "collapsed": false
   },
   "outputs": [],
   "source": [
    "arr = np.load('./trial/arrays.npz',mmap_mode='r')\n",
    "on_roll = np.load('./trial/onset_rolls.npz',mmap_mode='r')\n",
    "pi_roll = np.load('./trial/piano_rolls.npz',mmap_mode='r')"
   ]
  },
  {
   "cell_type": "code",
   "execution_count": null,
   "metadata": {
    "collapsed": false
   },
   "outputs": [],
   "source": [
    "# To access the name of the Piano Roll files\n",
    "pi_roll.files\n",
    "\n",
    "# Once you get the name of the argument you wish to see, \n",
    "pi_roll['name of the argurment']"
   ]
  },
  {
   "cell_type": "code",
   "execution_count": null,
   "metadata": {
    "collapsed": false
   },
   "outputs": [],
   "source": [
    "arr.files"
   ]
  },
  {
   "cell_type": "code",
   "execution_count": null,
   "metadata": {
    "collapsed": false
   },
   "outputs": [],
   "source": [
    "arr['downbeat_times']"
   ]
  },
  {
   "cell_type": "code",
   "execution_count": null,
   "metadata": {
    "collapsed": false
   },
   "outputs": [],
   "source": []
  },
  {
   "cell_type": "code",
   "execution_count": null,
   "metadata": {
    "collapsed": true
   },
   "outputs": [],
   "source": [
    "import json\n",
    "with open('./trial/instruments.json') as f:\n",
    "    datastore = json.load(f)"
   ]
  },
  {
   "cell_type": "code",
   "execution_count": null,
   "metadata": {
    "collapsed": false
   },
   "outputs": [],
   "source": [
    "datastore"
   ]
  },
  {
   "cell_type": "code",
   "execution_count": null,
   "metadata": {
    "collapsed": false
   },
   "outputs": [],
   "source": [
    "pi_roll.files"
   ]
  },
  {
   "cell_type": "code",
   "execution_count": null,
   "metadata": {
    "collapsed": false
   },
   "outputs": [],
   "source": [
    "len(pi_roll['0_csc_indptr'])"
   ]
  },
  {
   "cell_type": "code",
   "execution_count": null,
   "metadata": {
    "collapsed": false
   },
   "outputs": [],
   "source": [
    "pi_roll['0_csc_data']"
   ]
  },
  {
   "cell_type": "code",
   "execution_count": null,
   "metadata": {
    "collapsed": false
   },
   "outputs": [],
   "source": [
    "len(pi_roll['0_csc_indices'])"
   ]
  },
  {
   "cell_type": "code",
   "execution_count": null,
   "metadata": {
    "collapsed": false
   },
   "outputs": [],
   "source": [
    "pi_roll['2_csc_indptr']"
   ]
  },
  {
   "cell_type": "code",
   "execution_count": null,
   "metadata": {
    "collapsed": false
   },
   "outputs": [],
   "source": [
    "pi_roll['0_csc_shape']"
   ]
  },
  {
   "cell_type": "code",
   "execution_count": null,
   "metadata": {
    "collapsed": false
   },
   "outputs": [],
   "source": [
    "from collections import Counter"
   ]
  },
  {
   "cell_type": "code",
   "execution_count": null,
   "metadata": {
    "collapsed": false
   },
   "outputs": [],
   "source": [
    "Counter(pi_roll['11_csc_indptr'])"
   ]
  },
  {
   "cell_type": "code",
   "execution_count": null,
   "metadata": {
    "collapsed": false
   },
   "outputs": [],
   "source": [
    "Counter(pi_roll['10_csc_indices'])"
   ]
  },
  {
   "cell_type": "code",
   "execution_count": null,
   "metadata": {
    "collapsed": false
   },
   "outputs": [],
   "source": [
    "pi_roll['11_csc_indptr']"
   ]
  },
  {
   "cell_type": "code",
   "execution_count": null,
   "metadata": {
    "collapsed": false
   },
   "outputs": [],
   "source": [
    "pi_roll['6_csc_indptr']"
   ]
  },
  {
   "cell_type": "code",
   "execution_count": null,
   "metadata": {
    "collapsed": false
   },
   "outputs": [],
   "source": [
    "pi_roll['5_csc_indptr']"
   ]
  },
  {
   "cell_type": "code",
   "execution_count": null,
   "metadata": {
    "collapsed": false
   },
   "outputs": [],
   "source": [
    "pi_roll['5_csc_data']"
   ]
  },
  {
   "cell_type": "code",
   "execution_count": null,
   "metadata": {
    "collapsed": false
   },
   "outputs": [],
   "source": [
    "pi_roll['6_csc_data']"
   ]
  },
  {
   "cell_type": "code",
   "execution_count": null,
   "metadata": {
    "collapsed": false
   },
   "outputs": [],
   "source": [
    "pi_roll['5_csc_indices']"
   ]
  },
  {
   "cell_type": "code",
   "execution_count": null,
   "metadata": {
    "collapsed": false
   },
   "outputs": [],
   "source": [
    "pi_roll['6_csc_indices']"
   ]
  },
  {
   "cell_type": "code",
   "execution_count": null,
   "metadata": {
    "collapsed": false
   },
   "outputs": [],
   "source": [
    "arr['downbeat_times']"
   ]
  },
  {
   "cell_type": "code",
   "execution_count": null,
   "metadata": {
    "collapsed": false
   },
   "outputs": [],
   "source": [
    "pi_roll['0_csc_shape']"
   ]
  },
  {
   "cell_type": "code",
   "execution_count": null,
   "metadata": {
    "collapsed": true
   },
   "outputs": [],
   "source": [
    "piano_notes = np.zeros((11520,128))"
   ]
  },
  {
   "cell_type": "markdown",
   "metadata": {
    "collapsed": true
   },
   "source": [
    "# Using Ben's function"
   ]
  },
  {
   "cell_type": "code",
   "execution_count": null,
   "metadata": {
    "collapsed": false
   },
   "outputs": [],
   "source": [
    "midi_data= pretty_midi.PrettyMIDI(\"./Sweet Child O' Mine.mid\")\n",
    "piano=midi_data.instruments[0]\n",
    "piano_roll=piano.get_piano_roll(16)\n",
    "np.shape(piano_roll)"
   ]
  },
  {
   "cell_type": "code",
   "execution_count": null,
   "metadata": {
    "collapsed": true
   },
   "outputs": [],
   "source": [
    "def pianoroll_to_midi(piano_roll, fs=16, program=0):\n",
    "    '''Converts a Piano Roll array to a PrettyMidi object\n",
    "     with a single instrument.\n",
    "    \n",
    "    Input:\n",
    "    piano_roll : np.ndarray, shape=(128,frames), dtype=int\n",
    "        Piano roll of one instrument\n",
    "    fs : int\n",
    "        Sampling frequency of the columns, i.e. each column is spaced apart\n",
    "        by ``1./fs`` seconds.\n",
    "    program : int\n",
    "        The program number of the instrument.\n",
    "    \n",
    "    Returns:\n",
    "    midi_object : pretty_midi.PrettyMIDI\n",
    "        A pretty_midi.PrettyMIDI class instance describing\n",
    "        the piano roll.\n",
    "    '''\n",
    "    period=1./fs\n",
    "    \n",
    "    notes, frames = piano_roll.shape #get number of frames in our piano roll\n",
    "    pm = pretty_midi.PrettyMIDI() #create a Pretty Midi object\n",
    "    instrument = pretty_midi.Instrument(program=0) #specify our instrument\n",
    "\n",
    "    #record previous pitch/velocity so we can concatenate notes together\n",
    "    prev_pitch=0\n",
    "    prev_velocity=0\n",
    "    notelength=0\n",
    "    starttime=0\n",
    "    endtime=period\n",
    "    \n",
    "    i=0\n",
    "    while i<frames: #range over the frames of the piano roll\n",
    "\n",
    "        #need to specify velocity (100 for note, 0 for rest),  start time, end time, and pitch\n",
    "        \n",
    "        \n",
    "        #for ith column of piano roll get the (possible) non-zero index which\n",
    "        #corresponds to the pitch\n",
    "        col=piano_roll[:,i] \n",
    "        colnext=piano_roll[:,i+1]\n",
    "        tmp=np.nonzero(col)\n",
    "        tmpnext=np.nonzero(colnext)\n",
    "        \n",
    "        if tmp[0].size==0: #current is rest note, don't need to worry about length\n",
    "            \n",
    "            velocity=0\n",
    "            starttime=i*period\n",
    "            endtime=period+i*period\n",
    "            current_pitch=0\n",
    "           \n",
    "        \n",
    "        else:\n",
    "            #get current pitch and set the start time\n",
    "            velocity=100\n",
    "            current_pitch=tmp[0][0]\n",
    "            starttime=i*period\n",
    "            \n",
    "            \n",
    "            #loop over future notes to find when pitch changes\n",
    "            pitchchange=False\n",
    "            while pitchchange==False:\n",
    "                \n",
    "                #if end of song quit\n",
    "                if i==frames-1:\n",
    "                    endtime=period+i*period\n",
    "                    break\n",
    "                    \n",
    "                #get next note\n",
    "                colnext=piano_roll[:,i+1]\n",
    "                tmpnext=np.nonzero(colnext)\n",
    "                \n",
    "                #if next note is a rest\n",
    "                if tmpnext[0].size==0: \n",
    "                    endtime=period+i*period\n",
    "                    break\n",
    "                    \n",
    "                #if next frame has different pitch\n",
    "                elif tmpnext[0][0]!=current_pitch: \n",
    "                    endtime=period+i*period\n",
    "                    pitchchange=True\n",
    "            \n",
    "                else:\n",
    "                    #increment to next frame\n",
    "                    i=i+1\n",
    "                    \n",
    "            \n",
    "        pm_note=pretty_midi.Note(velocity=100, pitch=current_pitch, start=starttime, end=endtime)\n",
    "        i=i+1\n",
    "        #we have appended note, now move to next note   \n",
    "        instrument.notes.append(pm_note)\n",
    "        #print starttime\n",
    "        #print endtime\n",
    "        \n",
    "    pm.instruments.append(instrument)\n",
    "\n",
    "    return pm"
   ]
  },
  {
   "cell_type": "code",
   "execution_count": null,
   "metadata": {
    "collapsed": true
   },
   "outputs": [],
   "source": [
    "mypm=pianoroll_to_midi(piano_roll, fs=16, program=0)"
   ]
  },
  {
   "cell_type": "code",
   "execution_count": null,
   "metadata": {
    "collapsed": true
   },
   "outputs": [],
   "source": [
    "mypm.write('testmid.mid')"
   ]
  },
  {
   "cell_type": "code",
   "execution_count": null,
   "metadata": {
    "collapsed": false
   },
   "outputs": [],
   "source": [
    "piano_roll.shape"
   ]
  },
  {
   "cell_type": "code",
   "execution_count": null,
   "metadata": {
    "collapsed": false
   },
   "outputs": [],
   "source": [
    "np.transpose(piano_roll)[8]"
   ]
  },
  {
   "cell_type": "code",
   "execution_count": null,
   "metadata": {
    "collapsed": true
   },
   "outputs": [],
   "source": [
    "X = sample_data()"
   ]
  },
  {
   "cell_type": "code",
   "execution_count": null,
   "metadata": {
    "collapsed": false
   },
   "outputs": [],
   "source": [
    "pt = np.transpose(np.transpose(piano_roll)[:16])"
   ]
  },
  {
   "cell_type": "code",
   "execution_count": null,
   "metadata": {
    "collapsed": false
   },
   "outputs": [],
   "source": [
    "pt.shape"
   ]
  },
  {
   "cell_type": "code",
   "execution_count": null,
   "metadata": {
    "collapsed": false
   },
   "outputs": [],
   "source": [
    "mypm=pianoroll_to_midi(pt, fs=16, program=0)"
   ]
  },
  {
   "cell_type": "code",
   "execution_count": null,
   "metadata": {
    "collapsed": false
   },
   "outputs": [],
   "source": [
    "mypm.write('testmid16.mid')"
   ]
  },
  {
   "cell_type": "code",
   "execution_count": null,
   "metadata": {
    "collapsed": false
   },
   "outputs": [],
   "source": [
    "piano_roll_T = np.transpose(piano_roll)"
   ]
  },
  {
   "cell_type": "code",
   "execution_count": null,
   "metadata": {
    "collapsed": false
   },
   "outputs": [],
   "source": [
    "BarData = []\n",
    "for i in range(piano_roll_T.shape[0]):\n",
    "    BarData.append(np.transpose(piano_roll_T[i:i+16]))"
   ]
  },
  {
   "cell_type": "code",
   "execution_count": null,
   "metadata": {
    "collapsed": false
   },
   "outputs": [],
   "source": [
    "len(BarData)"
   ]
  },
  {
   "cell_type": "code",
   "execution_count": null,
   "metadata": {
    "collapsed": true
   },
   "outputs": [],
   "source": [
    "x = np.matrix(np.random.randint(5, size=(16,16)))"
   ]
  },
  {
   "cell_type": "code",
   "execution_count": null,
   "metadata": {
    "collapsed": false
   },
   "outputs": [],
   "source": [
    "data_x = np.transpose(x,(0,2,3,1))"
   ]
  },
  {
   "cell_type": "code",
   "execution_count": null,
   "metadata": {
    "collapsed": false
   },
   "outputs": [],
   "source": [
    "x"
   ]
  },
  {
   "cell_type": "markdown",
   "metadata": {
    "collapsed": true
   },
   "source": [
    "# Using Shrey's Curated Training Data"
   ]
  },
  {
   "cell_type": "code",
   "execution_count": 1,
   "metadata": {
    "collapsed": false
   },
   "outputs": [],
   "source": [
    "import os\n",
    "import pretty_midi\n",
    "import numpy as np\n",
    "\n",
    "train_data_path = './Training Stage 1/'"
   ]
  },
  {
   "cell_type": "code",
   "execution_count": 12,
   "metadata": {
    "collapsed": false
   },
   "outputs": [],
   "source": [
    "def get_midi_content(training_path):\n",
    "    filenames = []\n",
    "    lens = []\n",
    "    fin_midi_stream = []\n",
    "    for filename in os.listdir(training_path):\n",
    "        filenames.append(os.path.join(training_path,filename))\n",
    "    fin_midi_streama = []\n",
    "    fin_midi_files = []\n",
    "    min_melody_len = 999999 #a high number\n",
    "    for file in filenames:\n",
    "        temp = pretty_midi.PrettyMIDI(file)\n",
    "        melody = temp.instruments[0]\n",
    "    #     chord = temp.instruments[1]\n",
    "        melody_math = melody.get_piano_roll(16)\n",
    "        curr_stream = np.argmax(melody_math, axis=0)\n",
    "        fin_midi_streama.extend(curr_stream)\n",
    "    chop_size = 200\n",
    "    num_of_chops = len(fin_midi_stream)//chop_size\n",
    "    for i in range(num_of_chops):\n",
    "        fin_midi_files.append(fin_midi_stream[(i)*num_of_chops:(i+1)*num_of_chops])\n",
    "    return fin_midi_files"
   ]
  },
  {
   "cell_type": "code",
   "execution_count": 13,
   "metadata": {
    "collapsed": false
   },
   "outputs": [],
   "source": [
    "MF = get_midi_content(train_data_path)"
   ]
  },
  {
   "cell_type": "code",
   "execution_count": 14,
   "metadata": {
    "collapsed": false
   },
   "outputs": [],
   "source": [
    "for i in range(len(MF)):\n",
    "    print(len(MF[i]))"
   ]
  },
  {
   "cell_type": "code",
   "execution_count": 15,
   "metadata": {
    "collapsed": false
   },
   "outputs": [
    {
     "data": {
      "text/plain": [
       "0"
      ]
     },
     "execution_count": 15,
     "metadata": {},
     "output_type": "execute_result"
    }
   ],
   "source": [
    "len(MF)"
   ]
  },
  {
   "cell_type": "code",
   "execution_count": 5,
   "metadata": {
    "collapsed": true
   },
   "outputs": [],
   "source": [
    "from collections import Counter"
   ]
  },
  {
   "cell_type": "code",
   "execution_count": 6,
   "metadata": {
    "collapsed": true
   },
   "outputs": [],
   "source": [
    "gg = Counter(L)"
   ]
  },
  {
   "cell_type": "code",
   "execution_count": null,
   "metadata": {
    "collapsed": false
   },
   "outputs": [],
   "source": []
  },
  {
   "cell_type": "code",
   "execution_count": null,
   "metadata": {
    "collapsed": true
   },
   "outputs": [],
   "source": []
  },
  {
   "cell_type": "code",
   "execution_count": null,
   "metadata": {
    "collapsed": true
   },
   "outputs": [],
   "source": [
    "temp = midi_files[0]"
   ]
  },
  {
   "cell_type": "code",
   "execution_count": null,
   "metadata": {
    "collapsed": false
   },
   "outputs": [],
   "source": [
    "melody = temp.instruments[0]\n",
    "chord = temp.instruments[1]"
   ]
  },
  {
   "cell_type": "code",
   "execution_count": null,
   "metadata": {
    "collapsed": false
   },
   "outputs": [],
   "source": [
    "melody_math = melody.get_piano_roll(16)"
   ]
  },
  {
   "cell_type": "code",
   "execution_count": null,
   "metadata": {
    "collapsed": false
   },
   "outputs": [],
   "source": [
    "int(melody_math.shape[1])"
   ]
  },
  {
   "cell_type": "code",
   "execution_count": null,
   "metadata": {
    "collapsed": false,
    "scrolled": true
   },
   "outputs": [],
   "source": [
    "melody_math.shape"
   ]
  },
  {
   "cell_type": "code",
   "execution_count": null,
   "metadata": {
    "collapsed": false
   },
   "outputs": [],
   "source": [
    "idx = np.argmax(melody_math, axis=0)"
   ]
  },
  {
   "cell_type": "code",
   "execution_count": null,
   "metadata": {
    "collapsed": false
   },
   "outputs": [],
   "source": [
    "for i in idx:\n",
    "    print(i)"
   ]
  },
  {
   "cell_type": "code",
   "execution_count": null,
   "metadata": {
    "collapsed": false
   },
   "outputs": [],
   "source": []
  },
  {
   "cell_type": "code",
   "execution_count": null,
   "metadata": {
    "collapsed": false
   },
   "outputs": [],
   "source": [
    "f = np.matrix([])"
   ]
  },
  {
   "cell_type": "code",
   "execution_count": null,
   "metadata": {
    "collapsed": false
   },
   "outputs": [],
   "source": [
    "min_len = 99999\n",
    "for i in range(len(L)):\n",
    "    if (L[i])<min_len:\n",
    "        min_len = (L[i])\n",
    "print(min_len)"
   ]
  },
  {
   "cell_type": "code",
   "execution_count": 17,
   "metadata": {
    "collapsed": false
   },
   "outputs": [],
   "source": [
    "\n",
    "training_path = './Training Stage 1/'\n",
    "filenames = []\n",
    "lens = []\n",
    "fin_midi_stream = []\n",
    "for filename in os.listdir(training_path):\n",
    "    filenames.append(os.path.join(training_path,filename))\n",
    "fin_midi_streama = []\n",
    "fin_midi_files = []\n",
    "min_melody_len = 999999 #a high number\n",
    "for file in filenames:\n",
    "    temp = pretty_midi.PrettyMIDI(file)\n",
    "    melody = temp.instruments[0]\n",
    "#     chord = temp.instruments[1]\n",
    "    melody_math = melody.get_piano_roll(16)\n",
    "    curr_stream = np.argmax(melody_math, axis=0)\n",
    "    fin_midi_streama.extend(curr_stream)\n",
    "chop_size = 200\n",
    "num_of_chops = len(fin_midi_streama)//chop_size\n",
    "for i in range(num_of_chops):\n",
    "    fin_midi_files.append(fin_midi_streama[(i)*chop_size:(i+1)*chop_size])"
   ]
  },
  {
   "cell_type": "code",
   "execution_count": null,
   "metadata": {
    "collapsed": false
   },
   "outputs": [],
   "source": []
  },
  {
   "cell_type": "code",
   "execution_count": 54,
   "metadata": {
    "collapsed": false
   },
   "outputs": [
    {
     "data": {
      "text/plain": [
       "23887"
      ]
     },
     "execution_count": 54,
     "metadata": {},
     "output_type": "execute_result"
    }
   ],
   "source": [
    "len(fin_midi_files)"
   ]
  },
  {
   "cell_type": "markdown",
   "metadata": {},
   "source": [
    "gg = Counter(fin_midi_streama)"
   ]
  },
  {
   "cell_type": "code",
   "execution_count": 53,
   "metadata": {
    "collapsed": false
   },
   "outputs": [
    {
     "data": {
      "text/plain": [
       "[(0, 1342557),\n",
       " (73, 264882),\n",
       " (75, 250538),\n",
       " (77, 240745),\n",
       " (82, 232834),\n",
       " (80, 229811),\n",
       " (72, 228652),\n",
       " (84, 221067),\n",
       " (79, 211520),\n",
       " (76, 210166),\n",
       " (74, 206346),\n",
       " (78, 199635),\n",
       " (85, 196568),\n",
       " (87, 195867),\n",
       " (81, 189981),\n",
       " (86, 178767),\n",
       " (83, 177546)]"
      ]
     },
     "execution_count": 53,
     "metadata": {},
     "output_type": "execute_result"
    }
   ],
   "source": [
    "gg.most_common(40)"
   ]
  },
  {
   "cell_type": "code",
   "execution_count": 57,
   "metadata": {
    "collapsed": true
   },
   "outputs": [],
   "source": [
    "X = np.random.uniform(73, 87, size=[23877, 200])"
   ]
  },
  {
   "cell_type": "code",
   "execution_count": 58,
   "metadata": {
    "collapsed": false
   },
   "outputs": [
    {
     "data": {
      "text/plain": [
       "array([ 80.55391626,  84.45646418,  74.53829942,  76.29345248,\n",
       "        85.55848922,  74.43020755,  81.3142567 ,  84.73011338,\n",
       "        82.15470647,  74.84810167,  73.74753144,  86.86872991,\n",
       "        82.43358581,  85.96641822,  81.5648937 ,  77.01376868,\n",
       "        83.31646173,  78.55451131,  76.31906938,  75.83942452,\n",
       "        79.3824229 ,  75.0621685 ,  77.28196406,  86.05608212,\n",
       "        80.63318035,  77.96501085,  73.11899177,  80.41722584,\n",
       "        74.19939917,  73.0877949 ,  81.00298984,  83.08442972,\n",
       "        77.46214885,  74.11236943,  84.21421854,  84.32910176,\n",
       "        84.02816834,  77.67424822,  83.4960424 ,  74.0684403 ,\n",
       "        80.52911314,  86.73199597,  82.72331938,  83.69152889,\n",
       "        81.70543384,  86.42980989,  86.69569393,  80.72004166,\n",
       "        86.25726497,  86.82374801,  76.20483978,  79.87642865,\n",
       "        83.92497186,  76.05081444,  80.87743338,  77.75659638,\n",
       "        77.62639084,  86.36502477,  76.69274584,  81.4583118 ,\n",
       "        77.33507179,  80.06533707,  73.90895729,  76.55517284,\n",
       "        79.24439289,  73.02015918,  78.45398682,  75.14673123,\n",
       "        86.79077792,  82.70785283,  84.39022558,  78.07825674,\n",
       "        85.91433591,  85.40370104,  79.52905023,  76.76606553,\n",
       "        80.7867096 ,  77.36722522,  80.37635192,  74.52677367,\n",
       "        81.74198339,  73.27528325,  76.78917371,  75.53658259,\n",
       "        83.66728816,  78.43927261,  83.77923785,  79.11925472,\n",
       "        77.4292995 ,  78.87351294,  85.70923369,  77.87090534,\n",
       "        83.75625357,  80.20199826,  77.80588987,  81.37539125,\n",
       "        80.37052557,  74.06801165,  76.2584548 ,  81.46470153,\n",
       "        79.67271054,  76.69622371,  77.56919667,  79.41084792,\n",
       "        73.49567899,  81.99124456,  75.46758786,  78.95950857,\n",
       "        79.59920716,  83.68208744,  74.65599178,  78.74667144,\n",
       "        84.85507483,  83.31749438,  76.6263361 ,  85.40930529,\n",
       "        84.82326299,  79.92473197,  78.62916382,  81.57611632,\n",
       "        73.62764713,  74.63591896,  75.49566011,  75.40162747,\n",
       "        85.45141074,  81.06578687,  75.4472669 ,  75.63822084,\n",
       "        86.74820148,  74.51407502,  86.71333845,  77.65491569,\n",
       "        82.00594294,  77.7401976 ,  80.492347  ,  75.88978532,\n",
       "        73.30953167,  86.52459884,  81.36377542,  79.7177653 ,\n",
       "        82.02227524,  76.2313706 ,  79.99537312,  77.69168938,\n",
       "        73.72030976,  78.82170333,  82.91454884,  84.74873082,\n",
       "        77.6415543 ,  83.93153966,  79.31342993,  75.45310687,\n",
       "        76.32015243,  82.09894381,  81.73939705,  73.62475221,\n",
       "        73.52576245,  86.60080777,  79.41237985,  77.12864311,\n",
       "        78.32675922,  76.93148562,  79.31027415,  73.01833353,\n",
       "        80.57052126,  76.14382659,  82.85811035,  78.52739469,\n",
       "        77.85348122,  84.86672876,  79.73317225,  85.77751812,\n",
       "        76.49536724,  84.08462623,  84.2093954 ,  83.072634  ,\n",
       "        75.56106322,  81.55425772,  75.99322827,  74.41837315,\n",
       "        84.25418861,  85.36777937,  79.70382452,  83.99471263,\n",
       "        74.43812321,  77.28731864,  77.32439276,  84.72566563,\n",
       "        73.46055399,  78.69346558,  85.41335988,  85.83735911,\n",
       "        79.94675769,  82.78962495,  75.62614245,  84.45719906,\n",
       "        74.44002105,  75.7868321 ,  86.72796417,  74.74040693])"
      ]
     },
     "execution_count": 58,
     "metadata": {},
     "output_type": "execute_result"
    }
   ],
   "source": [
    "X[0]"
   ]
  },
  {
   "cell_type": "code",
   "execution_count": null,
   "metadata": {
    "collapsed": false
   },
   "outputs": [],
   "source": []
  },
  {
   "cell_type": "code",
   "execution_count": null,
   "metadata": {
    "collapsed": true
   },
   "outputs": [],
   "source": []
  }
 ],
 "metadata": {
  "kernelspec": {
   "display_name": "Python 3",
   "language": "python",
   "name": "python3"
  },
  "language_info": {
   "codemirror_mode": {
    "name": "ipython",
    "version": 3
   },
   "file_extension": ".py",
   "mimetype": "text/x-python",
   "name": "python",
   "nbconvert_exporter": "python",
   "pygments_lexer": "ipython3",
   "version": "3.5.3"
  }
 },
 "nbformat": 4,
 "nbformat_minor": 0
}
