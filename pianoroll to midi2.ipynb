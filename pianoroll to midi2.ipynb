{
 "cells": [
  {
   "cell_type": "code",
   "execution_count": 1,
   "metadata": {},
   "outputs": [],
   "source": [
    "import numpy as np\n",
    "import pretty_midi "
   ]
  },
  {
   "cell_type": "code",
   "execution_count": 2,
   "metadata": {},
   "outputs": [
    {
     "name": "stdout",
     "output_type": "stream",
     "text": [
      "[Instrument(program=0, is_drum=False, name=\"Piano right\"), Instrument(program=0, is_drum=False, name=\"Piano left\"), Instrument(program=0, is_drum=False, name=\"Fuga 1\"), Instrument(program=0, is_drum=False, name=\"Fuga 2\"), Instrument(program=0, is_drum=False, name=\"Fuga 3\")]\n"
     ]
    },
    {
     "data": {
      "text/plain": [
       "(128, 1215)"
      ]
     },
     "execution_count": 2,
     "metadata": {},
     "output_type": "execute_result"
    }
   ],
   "source": [
    "midi_data= pretty_midi.PrettyMIDI('bach_847.mid')\n",
    "print(midi_data.instruments)\n",
    "piano1=midi_data.instruments[0]\n",
    "piano2=midi_data.instruments[1]\n",
    "piano_roll1=piano1.get_piano_roll(16)\n",
    "piano_roll2=piano2.get_piano_roll(16)\n",
    "np.shape(piano_roll1)\n",
    "np.shape(piano_roll2)"
   ]
  },
  {
   "cell_type": "markdown",
   "metadata": {},
   "source": [
    "We have two piano rolls both of which might be playing multiple notes at once and we would like to convert this to a midi file we can listen to"
   ]
  },
  {
   "cell_type": "markdown",
   "metadata": {},
   "source": [
    "Use is as follows:\n",
    "\n",
    "    1. Get pretty midi object by pathing in array of pianorolls and program numbers (instruments)\n",
    "    pm_object=pianorolls_to_midi2([piano_roll1,piano_roll2], [0, 0], fs=16 )\n",
    "    \n",
    "    2. Use the write functionality to write out a pretty midi file\n",
    "    pm_object.write('test.mid')"
   ]
  },
  {
   "cell_type": "code",
   "execution_count": null,
   "metadata": {
    "scrolled": true
   },
   "outputs": [],
   "source": []
  },
  {
   "cell_type": "code",
   "execution_count": 71,
   "metadata": {},
   "outputs": [],
   "source": []
  },
  {
   "cell_type": "code",
   "execution_count": 89,
   "metadata": {},
   "outputs": [],
   "source": [
    "def GetNoteArray(pianoroll):\n",
    "    #get shape of piano roll\n",
    "    notes, frames = np.shape(pianoroll)\n",
    "\n",
    "    maxnote=0\n",
    "    for i in range(frames):\n",
    "        col=pianoroll[:,i]\n",
    "        if len(np.nonzero(col))>maxnote:\n",
    "            maxnote=len(np.nonzero(col))\n",
    "        \n",
    "    #initialize output using max number of notes we see at once\n",
    "    output=np.zeros((maxnote,frames))\n",
    "\n",
    "\n",
    "    #set init to first column and get nonzero values\n",
    "    init=pianoroll[:,0]\n",
    "    prev=np.nonzero(init)[0]\n",
    "\n",
    "    #set init values in output\n",
    "    for idx,note in enumerate(prev):\n",
    "        output[idx,0]=note\n",
    "\n",
    "\n",
    "    i=1\n",
    "    #print \"prev = \"+str(prev)\n",
    "    while(i<frames):\n",
    "        \n",
    "        currcol=pianoroll[:,i] #current frame in pianoroll\n",
    "        curr=np.nonzero(currcol)[0] #nonzero indices\n",
    "        #print \"curr = \"+str(curr)\n",
    "        for idx, prevnote in enumerate(prev):\n",
    "            \n",
    "            if prevnote in curr:\n",
    "                #if prev note is found in current notes add it to same place in array\n",
    "                #and remove it from list, otherwise skip it\n",
    "                indexcurr = np.argwhere(curr==prevnote)\n",
    "                #print 'index '+str(idx)+' with note '+str(prevnote)\n",
    "                output[idx,i]=prevnote\n",
    "                curr = np.delete(curr, indexcurr)\n",
    "                \n",
    "            else:\n",
    "                continue\n",
    "        #now cycle over notes that haven't been seen in prev\n",
    "        for idx, currnote in enumerate(curr):\n",
    "            j=0\n",
    "            while j<maxnote:\n",
    "                if output[j,i]==0:\n",
    "                    output[j,i]=currnote\n",
    "                    break\n",
    "                else:\n",
    "                    j=j+1\n",
    "            \n",
    "        \n",
    "        #finally set prev col to what we just organized\n",
    "        prev=output[:,i]\n",
    "        #prev=np.nonzero(prevcol)[0]\n",
    "        #print 'prev = '+str(prev)\n",
    "        i=i+1\n",
    "\n",
    "    return output"
   ]
  },
  {
   "cell_type": "code",
   "execution_count": null,
   "metadata": {},
   "outputs": [],
   "source": []
  },
  {
   "cell_type": "code",
   "execution_count": null,
   "metadata": {},
   "outputs": [],
   "source": []
  },
  {
   "cell_type": "code",
   "execution_count": null,
   "metadata": {
    "scrolled": true
   },
   "outputs": [],
   "source": []
  },
  {
   "cell_type": "code",
   "execution_count": 106,
   "metadata": {},
   "outputs": [],
   "source": [
    "def pianorolls_to_midi2(piano_rolls, programs, fs=16 ):\n",
    "    '''Converts Piano Rolls array to a PrettyMidi object\n",
    "     with multiple instruments.\n",
    "    \n",
    "    Input:\n",
    "    piano_roll :array of np.ndarray, shape=(128,frames), dtype=int\n",
    "        Piano roll of one instrument\n",
    "    fs : int\n",
    "        Sampling frequency of the columns, i.e. each column is spaced apart\n",
    "        by ``1./fs`` seconds.\n",
    "    programs : int array\n",
    "        The program numbers of the instruments.\n",
    "    \n",
    "    Returns:\n",
    "    midi_object : pretty_midi.PrettyMIDI\n",
    "        A pretty_midi.PrettyMIDI class instance describing\n",
    "        the piano roll.\n",
    "    '''\n",
    "    \n",
    "      \n",
    "    period=1./fs\n",
    "    \n",
    "    notes, frames = piano_rolls[0].shape #get number of frames in our piano roll\n",
    "    pm = pretty_midi.PrettyMIDI() #create a Pretty Midi object\n",
    "    \n",
    "    for idx, currentinstrument in enumerate(programs):\n",
    "        \n",
    "        \n",
    "        instrument=pretty_midi.Instrument(program=currentinstrument)\n",
    "    \n",
    "        #get processed pianoroll\n",
    "        pianoarray=GetNoteArray(piano_rolls[idx])\n",
    "        numsamenotes, frames= np.shape(pianoarray)\n",
    "        \n",
    "        for row in range(numsamenotes):\n",
    "            \n",
    "            notearray=pianoarray[row,:]\n",
    "        \n",
    "        \n",
    "            prev_pitch=0\n",
    "            prev_velocity=0\n",
    "            notelength=0\n",
    "            starttime=0\n",
    "            endtime=period\n",
    "\n",
    "            i=0\n",
    "            while i<frames: #range over the frames of the piano roll\n",
    "\n",
    "                #need to specify velocity (100 for note, 0 for rest),  start time, end time, and pitch\n",
    "               \n",
    "                #for ith column of piano roll get the (possible) non-zero index which\n",
    "                #corresponds to the pitch\n",
    "                \n",
    "                            \n",
    "                note=int(notearray[i])\n",
    "\n",
    "                if note==0: #current is rest note, don't need to worry about length\n",
    "\n",
    "                    velocity=0\n",
    "                    starttime=i*period\n",
    "                    endtime=period+i*period\n",
    "                    current_pitch=0\n",
    "                    pm_note=pretty_midi.Note(velocity=100, pitch=current_pitch, start=starttime, end=endtime)\n",
    "                    i=i+1\n",
    "                    instrument.notes.append(pm_note)\n",
    "\n",
    "                else:\n",
    "\n",
    "                    \n",
    "\n",
    "                    #endtime=GetEndTime(i, note)\n",
    "\n",
    "\n",
    "                    #get current pitch and set the start time\n",
    "                    velocity=100\n",
    "                    currnote=note\n",
    "\n",
    "                    starttime=i*period\n",
    "\n",
    "\n",
    "                    #loop over future notes to find when pitch changes\n",
    "                    pitchchange=False\n",
    "                    while pitchchange==False:\n",
    "\n",
    "                        #if end of song quit\n",
    "                        if i==frames-1:\n",
    "                            endtime=period+i*period\n",
    "                            break\n",
    "\n",
    "                        #get next note\n",
    "                        notenext=int(notearray[i+1])\n",
    "                        \n",
    "                        #if next note is a rest\n",
    "                        if notenext==0: \n",
    "                            endtime=period+i*period\n",
    "                            break\n",
    "\n",
    "                        #if next frame has different pitch\n",
    "                        elif notenext!=currnote: \n",
    "                            endtime=period+i*period\n",
    "                            break\n",
    "\n",
    "                        else:\n",
    "                            #increment to next frame\n",
    "                            i=i+1\n",
    "                            #print i\n",
    "\n",
    "                    pm_note=pretty_midi.Note(velocity=100, pitch=currnote, start=starttime, end=endtime)\n",
    "                    i=i+1\n",
    "                    #we have appended note, now move to next note   \n",
    "                    instrument.notes.append(pm_note)\n",
    "                #print starttime\n",
    "                #print endtime\n",
    "\n",
    "            pm.instruments.append(instrument)\n",
    "        \n",
    "    return pm"
   ]
  },
  {
   "cell_type": "code",
   "execution_count": 107,
   "metadata": {},
   "outputs": [],
   "source": [
    "pm=pianorolls_to_midi2([piano_roll1,piano_roll2], [0, 0], fs=16 )"
   ]
  },
  {
   "cell_type": "code",
   "execution_count": 108,
   "metadata": {},
   "outputs": [],
   "source": [
    "pm.write('test.mid')"
   ]
  },
  {
   "cell_type": "code",
   "execution_count": 109,
   "metadata": {},
   "outputs": [
    {
     "name": "stdout",
     "output_type": "stream",
     "text": [
      "Requested buffer size 32768, fragment size 8192\n",
      "ALSA pcm 'default' set buffer size 32768, period size 8192 bytes\n",
      "Playing test.mid\n",
      "MIDI file: test.mid\n",
      "Format: 1  Tracks: 3  Divisions: 220\n",
      "Playing time: ~79 seconds\n",
      "Notes cut: 0\n",
      "Notes lost totally: 0\n"
     ]
    }
   ],
   "source": [
    "!timidity test.mid"
   ]
  },
  {
   "cell_type": "code",
   "execution_count": null,
   "metadata": {},
   "outputs": [],
   "source": []
  }
 ],
 "metadata": {
  "kernelspec": {
   "display_name": "Python 2",
   "language": "python",
   "name": "python2"
  },
  "language_info": {
   "codemirror_mode": {
    "name": "ipython",
    "version": 2
   },
   "file_extension": ".py",
   "mimetype": "text/x-python",
   "name": "python",
   "nbconvert_exporter": "python",
   "pygments_lexer": "ipython2",
   "version": "2.7.12"
  }
 },
 "nbformat": 4,
 "nbformat_minor": 2
}
